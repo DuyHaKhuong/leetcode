{
 "cells": [
  {
   "cell_type": "code",
   "execution_count": null,
   "id": "19906bc1",
   "metadata": {},
   "outputs": [],
   "source": [
    "import numpy as np\n",
    "import time\n"
   ]
  },
  {
   "cell_type": "code",
   "execution_count": null,
   "id": "07550d0e",
   "metadata": {},
   "outputs": [],
   "source": []
  },
  {
   "cell_type": "code",
   "execution_count": 2,
   "id": "a596df84",
   "metadata": {},
   "outputs": [
    {
     "name": "stdout",
     "output_type": "stream",
     "text": [
      "List: 0.06513690948486328\n",
      "Array: 0.05817699432373047\n"
     ]
    }
   ],
   "source": [
    "n = 10**6\n",
    "lst = [0] * n\n",
    "arr = np.zeros(n, dtype=int)\n",
    "\n",
    "t0 = time.time()\n",
    "for i in range(n):\n",
    "    lst[i] = 5\n",
    "print(\"List:\", time.time() - t0)\n",
    "\n",
    "t0 = time.time()\n",
    "for i in range(n):\n",
    "    arr[i] = 5\n",
    "print(\"Array:\", time.time() - t0)"
   ]
  },
  {
   "cell_type": "code",
   "execution_count": 3,
   "id": "9ae73dfd",
   "metadata": {},
   "outputs": [
    {
     "data": {
      "text/plain": [
       "False"
      ]
     },
     "execution_count": 3,
     "metadata": {},
     "output_type": "execute_result"
    }
   ],
   "source": [
    "all([True, False])"
   ]
  },
  {
   "cell_type": "code",
   "execution_count": 5,
   "id": "3a23c1d8",
   "metadata": {},
   "outputs": [
    {
     "name": "stdout",
     "output_type": "stream",
     "text": [
      "np.exp(x) - 1: 3.1473 s\n",
      "np.expm1(x):   2.7585 s\n",
      "Speedup: 1.14×\n",
      "Max absolute difference: 1.110240e-16\n"
     ]
    }
   ],
   "source": [
    "import numpy as np\n",
    "import timeit\n",
    "\n",
    "# Create test data\n",
    "x = np.random.rand(10_000_000) * 1e-5  # small values (worst case for exp-1 accuracy)\n",
    "\n",
    "# Warmup\n",
    "np.exp(x)\n",
    "np.expm1(x)\n",
    "\n",
    "# Timing with timeit\n",
    "t1 = timeit.timeit('np.exp(x) - 1', number=100, globals=globals())\n",
    "t2 = timeit.timeit('np.expm1(x)', number=100, globals=globals())\n",
    "\n",
    "print(f\"np.exp(x) - 1: {t1:.4f} s\")\n",
    "print(f\"np.expm1(x):   {t2:.4f} s\")\n",
    "print(f\"Speedup: {(t1 / t2):.2f}×\")\n",
    "\n",
    "# Accuracy check for small x\n",
    "diff = np.abs((np.exp(x) - 1) - np.expm1(x)).max()\n",
    "print(f\"Max absolute difference: {diff:e}\")"
   ]
  },
  {
   "cell_type": "code",
   "execution_count": 7,
   "id": "6be3439b",
   "metadata": {},
   "outputs": [
    {
     "name": "stdout",
     "output_type": "stream",
     "text": [
      "np.exp(x) - 1: 0.5035 s\n",
      "np.expm1(x):   0.4010 s\n",
      "Speedup: 1.26×\n"
     ]
    }
   ],
   "source": [
    "import numpy as np\n",
    "import timeit\n",
    "\n",
    "# Create test data\n",
    "x = np.random.rand(1_000_000) * 1e-5  # small values (worst case for exp-1 accuracy)\n",
    "\n",
    "# Warmup\n",
    "np.exp(x)\n",
    "np.expm1(x)\n",
    "\n",
    "# Timing with timeit\n",
    "t1 = timeit.timeit('np.log1p(x)', number=100, globals=globals())\n",
    "t2 = timeit.timeit('np.log(1 + x)', number=100, globals=globals())\n",
    "\n",
    "print(f\"np.exp(x) - 1: {t1:.4f} s\")\n",
    "print(f\"np.expm1(x):   {t2:.4f} s\")\n",
    "print(f\"Speedup: {(t1 / t2):.2f}×\")"
   ]
  },
  {
   "cell_type": "code",
   "execution_count": 9,
   "id": "f4828fb3",
   "metadata": {},
   "outputs": [
    {
     "name": "stdout",
     "output_type": "stream",
     "text": [
      "1\n",
      "2\n",
      "4\n"
     ]
    }
   ],
   "source": [
    "a = [1,2, 4]\n",
    "def get_iter(l):\n",
    "    for e in l:\n",
    "        yield e \n",
    "        \n",
    "b = get_iter(a)\n",
    "for e in b:\n",
    "    print(e)"
   ]
  },
  {
   "cell_type": "code",
   "execution_count": 12,
   "id": "b703c552",
   "metadata": {},
   "outputs": [
    {
     "name": "stdout",
     "output_type": "stream",
     "text": [
      "loop pop: 0.00031685829162597656\n",
      "slice del: 0.00023603439331054688\n"
     ]
    }
   ],
   "source": [
    "import time\n",
    "\n",
    "stack = list(range(10_000))\n",
    "k = 1000\n",
    "\n",
    "# Method 1: loop pop\n",
    "start = time.time()\n",
    "for _ in range(2*k):\n",
    "    stack.pop()\n",
    "print(\"loop pop:\", time.time() - start)\n",
    "\n",
    "# Method 2: del slice\n",
    "stack = list(range(10_000))\n",
    "start = time.time()\n",
    "del stack[-2*k:]\n",
    "print(\"slice del:\", time.time() - start)"
   ]
  },
  {
   "cell_type": "markdown",
   "id": "88909351",
   "metadata": {},
   "source": []
  },
  {
   "cell_type": "code",
   "execution_count": 15,
   "id": "21309ee2",
   "metadata": {},
   "outputs": [
    {
     "data": {
      "text/plain": [
       "(1, 0, 0)"
      ]
     },
     "execution_count": 15,
     "metadata": {},
     "output_type": "execute_result"
    }
   ],
   "source": [
    "1 ^ 0, 1 ^ 1, 0 ^ 0"
   ]
  },
  {
   "cell_type": "code",
   "execution_count": 19,
   "id": "bec7545d",
   "metadata": {},
   "outputs": [
    {
     "data": {
      "text/plain": [
       "612"
      ]
     },
     "execution_count": 19,
     "metadata": {},
     "output_type": "execute_result"
    }
   ],
   "source": [
    "0 ^ 612"
   ]
  },
  {
   "cell_type": "code",
   "execution_count": 22,
   "id": "f430bbdc",
   "metadata": {},
   "outputs": [
    {
     "data": {
      "text/plain": [
       "(0, 0)"
      ]
     },
     "execution_count": 22,
     "metadata": {},
     "output_type": "execute_result"
    }
   ],
   "source": [
    "0 ^ 0, 7 ^ 7 ^ 0"
   ]
  },
  {
   "cell_type": "code",
   "execution_count": 23,
   "id": "b37211a5",
   "metadata": {},
   "outputs": [
    {
     "data": {
      "text/plain": [
       "9"
      ]
     },
     "execution_count": 23,
     "metadata": {},
     "output_type": "execute_result"
    }
   ],
   "source": [
    "len([0,0,7,0,0,0,7,0,0])"
   ]
  },
  {
   "cell_type": "code",
   "execution_count": 7,
   "id": "c7ce3c26",
   "metadata": {},
   "outputs": [
    {
     "name": "stdout",
     "output_type": "stream",
     "text": [
      "/Users/duyha/anaconda3/bin/python\n",
      "Requirement already satisfied: openai in /Users/duyha/anaconda3/lib/python3.11/site-packages (2.2.0)\n",
      "Requirement already satisfied: anyio<5,>=3.5.0 in /Users/duyha/anaconda3/lib/python3.11/site-packages (from openai) (4.10.0)\n",
      "Requirement already satisfied: distro<2,>=1.7.0 in /Users/duyha/anaconda3/lib/python3.11/site-packages (from openai) (1.9.0)\n",
      "Requirement already satisfied: httpx<1,>=0.23.0 in /Users/duyha/anaconda3/lib/python3.11/site-packages (from openai) (0.28.1)\n",
      "Requirement already satisfied: jiter<1,>=0.4.0 in /Users/duyha/anaconda3/lib/python3.11/site-packages (from openai) (0.11.0)\n",
      "Requirement already satisfied: pydantic<3,>=1.9.0 in /Users/duyha/anaconda3/lib/python3.11/site-packages (from openai) (2.10.6)\n",
      "Requirement already satisfied: sniffio in /Users/duyha/anaconda3/lib/python3.11/site-packages (from openai) (1.2.0)\n",
      "Requirement already satisfied: tqdm>4 in /Users/duyha/anaconda3/lib/python3.11/site-packages (from openai) (4.65.0)\n",
      "Requirement already satisfied: typing-extensions<5,>=4.11 in /Users/duyha/anaconda3/lib/python3.11/site-packages (from openai) (4.15.0)\n",
      "Requirement already satisfied: idna>=2.8 in /Users/duyha/anaconda3/lib/python3.11/site-packages (from anyio<5,>=3.5.0->openai) (3.4)\n",
      "Requirement already satisfied: certifi in /Users/duyha/anaconda3/lib/python3.11/site-packages (from httpx<1,>=0.23.0->openai) (2023.7.22)\n",
      "Requirement already satisfied: httpcore==1.* in /Users/duyha/anaconda3/lib/python3.11/site-packages (from httpx<1,>=0.23.0->openai) (1.0.9)\n",
      "Requirement already satisfied: h11>=0.16 in /Users/duyha/anaconda3/lib/python3.11/site-packages (from httpcore==1.*->httpx<1,>=0.23.0->openai) (0.16.0)\n",
      "Requirement already satisfied: annotated-types>=0.6.0 in /Users/duyha/anaconda3/lib/python3.11/site-packages (from pydantic<3,>=1.9.0->openai) (0.7.0)\n",
      "Requirement already satisfied: pydantic-core==2.27.2 in /Users/duyha/anaconda3/lib/python3.11/site-packages (from pydantic<3,>=1.9.0->openai) (2.27.2)\n"
     ]
    }
   ],
   "source": [
    "import sys\n",
    "print(sys.executable)\n",
    "!{sys.executable} -m pip install --upgrade openai"
   ]
  },
  {
   "cell_type": "code",
   "execution_count": null,
   "id": "ba80c5d2",
   "metadata": {},
   "outputs": [],
   "source": []
  },
  {
   "cell_type": "code",
   "execution_count": 11,
   "id": "6da550d7",
   "metadata": {},
   "outputs": [
    {
     "name": "stdout",
     "output_type": "stream",
     "text": [
      "Absolutely! To learn **Lean** (the interactive theorem prover and programming language developed by Microsoft Research), you’ll find a rich ecosystem of tutorials, guides, and books. Here’s a curated set of learning materials that cater to both beginners and those deepening their knowledge.\n",
      "\n",
      "---\n",
      "\n",
      "## **1. Official Documentation and Introductory Resources**\n",
      "\n",
      "- **Lean Community Website**\n",
      "  - Central hub with documentation, resources, links to Zulip chat, and project news.\n",
      "  - [https://leanprover-community.github.io/](https://leanprover-community.github.io/)\n",
      "\n",
      "- **Lean Manual**\n",
      "  - The primary reference for Lean, particularly Lean 4 (the latest version).\n",
      "  - [Lean 4 Manual](https://leanprover.github.io/lean4/doc/)\n",
      "\n",
      "## **2. Beginners’ Tutorials**\n",
      "\n",
      "- **Theorem Proving in Lean 4 (Community version)**\n",
      "  - Concise, hands-on guide walking through proofs, tactics, and examples.\n",
      "  - [https://leanprover-community.github.io/theorem_proving_in_lean4/](https://leanprover-community.github.io/theorem_proving_in_lean4/)\n",
      "\n",
      "- **Natural Number Game**\n",
      "  - Interactive game for learning theorem proving in Lean by proving properties about natural numbers.\n",
      "  - [https://www.ma.imperial.ac.uk/~buzzard/xena/natural_number_game/](https://www.ma.imperial.ac.uk/~buzzard/xena/natural_number_game/)\n",
      "\n",
      "- **Logical Verification**\n",
      "  - An online interactive textbook introducing logic and Lean.\n",
      "  - [https://avigad.github.io/logical_verification/](https://avigad.github.io/logical_verification/)\n",
      "\n",
      "- **Lean at Home**\n",
      "  - A short, approachable tutorial for absolute beginners.\n",
      "  - [https://leanprover-community.github.io/lean-at-home/](https://leanprover-community.github.io/lean-at-home/)\n",
      "\n",
      "## **3. Books and Advanced Guides**\n",
      "\n",
      "- **The Hitchhiker's Guide to Logical Verification**\n",
      "  - A comprehensive e-book (in progress) covering practical Lean topics.\n",
      "  - [https://leanprover-community.github.io/guide/](https://leanprover-community.github.io/guide/)\n",
      "\n",
      "- **Formalizing Mathematics in Lean (Lean 3, still very relevant)**\n",
      "  - A thorough book focusing on formalizing pure mathematics.\n",
      "  - [https://leanprover-community.github.io/mathematics_in_lean/](https://leanprover-community.github.io/mathematics_in_lean/)\n",
      "\n",
      "## **4. Videos and Interactive Content**\n",
      "\n",
      "- **Lean Together Conference Talks**\n",
      "  - Talks and tutorials from Lean community events. See YouTube: [Lean Prover Community YouTube](https://www.youtube.com/c/LeanProverCommunity)\n",
      "\n",
      "- **YouTube Playlist: Introduction to Lean**\n",
      "  - Walkthrough videos for beginners: [https://www.youtube.com/playlist?list=PLlF-CfQhukNnIbduGkrYZA5zqYqp5K7iC](https://www.youtube.com/playlist?list=PLlF-CfQhukNnIbduGkrYZA5zqYqp5K7iC)\n",
      "\n",
      "---\n",
      "\n",
      "## **5. Community and Support**\n",
      "\n",
      "- **Lean Zulip Chat** (very active)\n",
      "  - [https://leanprover.zulipchat.com/](https://leanprover.zulipchat.com/)  \n",
      "  Best place to ask questions, get help, and discuss all things Lean.\n",
      "\n",
      "- **GitHub: leanprover-community/lean4**\n",
      "  - [https://github.com/leanprover/lean4](https://github.com/leanprover/lean4)\n",
      "\n",
      "---\n",
      "\n",
      "## **Getting Started Locally**\n",
      "\n",
      "- **Install Lean 4**:  \n",
      "  Follow the guide: [https://leanprover-community.github.io/get_started.html](https://leanprover-community.github.io/get_started.html)\n",
      "\n",
      "- **Play online**:  \n",
      "  No installation required — try Lean 4 in your browser:  \n",
      "  [https://leanprover.github.io/lean4/doc/quickstart.html#lean4-web-editor](https://leanprover.github.io/lean4/doc/quickstart.html#lean4-web-editor)\n",
      "\n",
      "---\n",
      "\n",
      "If you mention your background (math, logic, CS, programming?) or your learning goals, I can provide a tailored study path or recommend additional resources!\n"
     ]
    }
   ],
   "source": [
    "from openai import OpenAI\n",
    "\n",
    "client = OpenAI()\n",
    "\n",
    "resp = client.chat.completions.create(\n",
    "    model=\"gpt-4.1\",\n",
    "    messages=[{\"role\": \"user\", \"content\": \"Hello API, show me materials to learn Lean\"}],\n",
    "    max_tokens=10000\n",
    ")\n",
    "\n",
    "print(resp.choices[0].message.content)"
   ]
  },
  {
   "cell_type": "code",
   "execution_count": null,
   "id": "adcd217d",
   "metadata": {},
   "outputs": [],
   "source": []
  },
  {
   "cell_type": "markdown",
   "id": "5494c58c",
   "metadata": {},
   "source": [
    "Here’s the same text, **cleanly formatted in Markdown** — perfect for a README, blog post, or notebook 👇\n",
    "\n",
    "---\n",
    "\n",
    "# 🧠 **Learning Lean — Curated Guide**\n",
    "\n",
    "Absolutely!\n",
    "To learn **Lean** (the interactive theorem prover and programming language developed by Microsoft Research), you’ll find a rich ecosystem of tutorials, guides, and books. Here’s a curated set of learning materials that cater to both **beginners** and those **deepening their knowledge**.\n",
    "\n",
    "---\n",
    "\n",
    "## 📚 **1. Official Documentation and Introductory Resources**\n",
    "\n",
    "* **Lean Community Website**\n",
    "  Central hub with documentation, resources, links to Zulip chat, and project news.\n",
    "  👉 [https://leanprover-community.github.io/](https://leanprover-community.github.io/)\n",
    "\n",
    "* **Lean Manual**\n",
    "  The primary reference for Lean, particularly **Lean 4** (the latest version).\n",
    "  👉 [Lean 4 Manual](https://leanprover.github.io/lean4/doc/)\n",
    "\n",
    "---\n",
    "\n",
    "## 🐣 **2. Beginners’ Tutorials**\n",
    "\n",
    "* **Theorem Proving in Lean 4 (Community version)**\n",
    "  Concise, hands-on guide walking through proofs, tactics, and examples.\n",
    "  👉 [https://leanprover-community.github.io/theorem_proving_in_lean4/](https://leanprover-community.github.io/theorem_proving_in_lean4/)\n",
    "\n",
    "* **Natural Number Game**\n",
    "  Interactive game for learning theorem proving in Lean by proving properties about natural numbers.\n",
    "  👉 [https://www.ma.imperial.ac.uk/~buzzard/xena/natural_number_game/](https://www.ma.imperial.ac.uk/~buzzard/xena/natural_number_game/)\n",
    "\n",
    "* **Logical Verification**\n",
    "  An online interactive textbook introducing logic and Lean.\n",
    "  👉 [https://avigad.github.io/logical_verification/](https://avigad.github.io/logical_verification/)\n",
    "\n",
    "* **Lean at Home**\n",
    "  A short, approachable tutorial for absolute beginners.\n",
    "  👉 [https://leanprover-community.github.io/lean-at-home/](https://leanprover-community.github.io/lean-at-home/)\n",
    "\n",
    "---\n",
    "\n",
    "## 📖 **3. Books and Advanced Guides**\n",
    "\n",
    "* **The Hitchhiker's Guide to Logical Verification**\n",
    "  A comprehensive e-book (in progress) covering practical Lean topics.\n",
    "  👉 [https://leanprover-community.github.io/guide/](https://leanprover-community.github.io/guide/)\n",
    "\n",
    "* **Formalizing Mathematics in Lean (Lean 3)**\n",
    "  A thorough book focusing on formalizing pure mathematics. (Still very relevant.)\n",
    "  👉 [https://leanprover-community.github.io/mathematics_in_lean/](https://leanprover-community.github.io/mathematics_in_lean/)\n",
    "\n",
    "---\n",
    "\n",
    "## 🎥 **4. Videos and Interactive Content**\n",
    "\n",
    "* **Lean Together Conference Talks**\n",
    "  Talks and tutorials from Lean community events.\n",
    "  📺 [Lean Prover Community YouTube](https://www.youtube.com/c/LeanProverCommunity)\n",
    "\n",
    "* **YouTube Playlist: Introduction to Lean**\n",
    "  A structured playlist for beginners.\n",
    "  📺 [https://www.youtube.com/playlist?list=PLlF-CfQhukNnIbduGkrYZA5zqYqp5K7iC](https://www.youtube.com/playlist?list=PLlF-CfQhukNnIbduGkrYZA5zqYqp5K7iC)\n",
    "\n",
    "---\n",
    "\n",
    "## 🌐 **5. Community and Support**\n",
    "\n",
    "* **Lean Zulip Chat** (very active)\n",
    "  Best place to ask questions, get help, and discuss all things Lean.\n",
    "  👉 [https://leanprover.zulipchat.com/](https://leanprover.zulipchat.com/)\n",
    "\n",
    "* **GitHub: leanprover-community/lean4**\n",
    "  👉 [https://github.com/leanprover/lean4](https://github.com/leanprover/lean4)\n",
    "\n",
    "---\n",
    "\n",
    "## 💻 **Getting Started Locally**\n",
    "\n",
    "* **Install Lean 4**\n",
    "  Follow the official guide:\n",
    "  👉 [https://leanprover-community.github.io/get_started.html](https://leanprover-community.github.io/get_started.html)\n",
    "\n",
    "* **Play online** (no installation needed)\n",
    "  Try Lean 4 directly in your browser:\n",
    "  👉 [https://leanprover.github.io/lean4/doc/quickstart.html#lean4-web-editor](https://leanprover.github.io/lean4/doc/quickstart.html#lean4-web-editor)\n",
    "\n",
    "---\n",
    "\n",
    "✨ If you mention your background (math, logic, CS, programming?) or your learning goals, I can help craft a **tailored study path** or suggest the **best sequence** of these resources.\n"
   ]
  },
  {
   "cell_type": "code",
   "execution_count": null,
   "id": "bc7d9fbc",
   "metadata": {},
   "outputs": [],
   "source": []
  }
 ],
 "metadata": {
  "kernelspec": {
   "display_name": "Python 3 (ipykernel)",
   "language": "python",
   "name": "python3"
  },
  "language_info": {
   "codemirror_mode": {
    "name": "ipython",
    "version": 3
   },
   "file_extension": ".py",
   "mimetype": "text/x-python",
   "name": "python",
   "nbconvert_exporter": "python",
   "pygments_lexer": "ipython3",
   "version": "3.11.5"
  }
 },
 "nbformat": 4,
 "nbformat_minor": 5
}
