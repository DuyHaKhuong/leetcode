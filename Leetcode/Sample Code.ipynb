{
 "cells": [
  {
   "cell_type": "code",
   "execution_count": 1,
   "id": "19906bc1",
   "metadata": {},
   "outputs": [],
   "source": [
    "import numpy as np\n",
    "import time\n"
   ]
  },
  {
   "cell_type": "code",
   "execution_count": null,
   "id": "07550d0e",
   "metadata": {},
   "outputs": [],
   "source": []
  },
  {
   "cell_type": "code",
   "execution_count": 2,
   "id": "a596df84",
   "metadata": {},
   "outputs": [
    {
     "name": "stdout",
     "output_type": "stream",
     "text": [
      "List: 0.06513690948486328\n",
      "Array: 0.05817699432373047\n"
     ]
    }
   ],
   "source": [
    "n = 10**6\n",
    "lst = [0] * n\n",
    "arr = np.zeros(n, dtype=int)\n",
    "\n",
    "t0 = time.time()\n",
    "for i in range(n):\n",
    "    lst[i] = 5\n",
    "print(\"List:\", time.time() - t0)\n",
    "\n",
    "t0 = time.time()\n",
    "for i in range(n):\n",
    "    arr[i] = 5\n",
    "print(\"Array:\", time.time() - t0)"
   ]
  },
  {
   "cell_type": "code",
   "execution_count": 3,
   "id": "9ae73dfd",
   "metadata": {},
   "outputs": [
    {
     "data": {
      "text/plain": [
       "False"
      ]
     },
     "execution_count": 3,
     "metadata": {},
     "output_type": "execute_result"
    }
   ],
   "source": [
    "all([True, False])"
   ]
  },
  {
   "cell_type": "code",
   "execution_count": 5,
   "id": "3a23c1d8",
   "metadata": {},
   "outputs": [
    {
     "name": "stdout",
     "output_type": "stream",
     "text": [
      "np.exp(x) - 1: 3.1473 s\n",
      "np.expm1(x):   2.7585 s\n",
      "Speedup: 1.14×\n",
      "Max absolute difference: 1.110240e-16\n"
     ]
    }
   ],
   "source": [
    "import numpy as np\n",
    "import timeit\n",
    "\n",
    "# Create test data\n",
    "x = np.random.rand(10_000_000) * 1e-5  # small values (worst case for exp-1 accuracy)\n",
    "\n",
    "# Warmup\n",
    "np.exp(x)\n",
    "np.expm1(x)\n",
    "\n",
    "# Timing with timeit\n",
    "t1 = timeit.timeit('np.exp(x) - 1', number=100, globals=globals())\n",
    "t2 = timeit.timeit('np.expm1(x)', number=100, globals=globals())\n",
    "\n",
    "print(f\"np.exp(x) - 1: {t1:.4f} s\")\n",
    "print(f\"np.expm1(x):   {t2:.4f} s\")\n",
    "print(f\"Speedup: {(t1 / t2):.2f}×\")\n",
    "\n",
    "# Accuracy check for small x\n",
    "diff = np.abs((np.exp(x) - 1) - np.expm1(x)).max()\n",
    "print(f\"Max absolute difference: {diff:e}\")"
   ]
  },
  {
   "cell_type": "code",
   "execution_count": 7,
   "id": "6be3439b",
   "metadata": {},
   "outputs": [
    {
     "name": "stdout",
     "output_type": "stream",
     "text": [
      "np.exp(x) - 1: 0.5035 s\n",
      "np.expm1(x):   0.4010 s\n",
      "Speedup: 1.26×\n"
     ]
    }
   ],
   "source": [
    "import numpy as np\n",
    "import timeit\n",
    "\n",
    "# Create test data\n",
    "x = np.random.rand(1_000_000) * 1e-5  # small values (worst case for exp-1 accuracy)\n",
    "\n",
    "# Warmup\n",
    "np.exp(x)\n",
    "np.expm1(x)\n",
    "\n",
    "# Timing with timeit\n",
    "t1 = timeit.timeit('np.log1p(x)', number=100, globals=globals())\n",
    "t2 = timeit.timeit('np.log(1 + x)', number=100, globals=globals())\n",
    "\n",
    "print(f\"np.exp(x) - 1: {t1:.4f} s\")\n",
    "print(f\"np.expm1(x):   {t2:.4f} s\")\n",
    "print(f\"Speedup: {(t1 / t2):.2f}×\")"
   ]
  },
  {
   "cell_type": "code",
   "execution_count": 9,
   "id": "f4828fb3",
   "metadata": {},
   "outputs": [
    {
     "name": "stdout",
     "output_type": "stream",
     "text": [
      "1\n",
      "2\n",
      "4\n"
     ]
    }
   ],
   "source": [
    "a = [1,2, 4]\n",
    "def get_iter(l):\n",
    "    for e in l:\n",
    "        yield e \n",
    "        \n",
    "b = get_iter(a)\n",
    "for e in b:\n",
    "    print(e)"
   ]
  },
  {
   "cell_type": "code",
   "execution_count": 12,
   "id": "b703c552",
   "metadata": {},
   "outputs": [
    {
     "name": "stdout",
     "output_type": "stream",
     "text": [
      "loop pop: 0.00031685829162597656\n",
      "slice del: 0.00023603439331054688\n"
     ]
    }
   ],
   "source": [
    "import time\n",
    "\n",
    "stack = list(range(10_000))\n",
    "k = 1000\n",
    "\n",
    "# Method 1: loop pop\n",
    "start = time.time()\n",
    "for _ in range(2*k):\n",
    "    stack.pop()\n",
    "print(\"loop pop:\", time.time() - start)\n",
    "\n",
    "# Method 2: del slice\n",
    "stack = list(range(10_000))\n",
    "start = time.time()\n",
    "del stack[-2*k:]\n",
    "print(\"slice del:\", time.time() - start)"
   ]
  },
  {
   "cell_type": "markdown",
   "id": "88909351",
   "metadata": {},
   "source": []
  },
  {
   "cell_type": "code",
   "execution_count": 15,
   "id": "21309ee2",
   "metadata": {},
   "outputs": [
    {
     "data": {
      "text/plain": [
       "(1, 0, 0)"
      ]
     },
     "execution_count": 15,
     "metadata": {},
     "output_type": "execute_result"
    }
   ],
   "source": [
    "1 ^ 0, 1 ^ 1, 0 ^ 0"
   ]
  },
  {
   "cell_type": "code",
   "execution_count": 19,
   "id": "bec7545d",
   "metadata": {},
   "outputs": [
    {
     "data": {
      "text/plain": [
       "612"
      ]
     },
     "execution_count": 19,
     "metadata": {},
     "output_type": "execute_result"
    }
   ],
   "source": [
    "0 ^ 612"
   ]
  },
  {
   "cell_type": "code",
   "execution_count": 22,
   "id": "f430bbdc",
   "metadata": {},
   "outputs": [
    {
     "data": {
      "text/plain": [
       "(0, 0)"
      ]
     },
     "execution_count": 22,
     "metadata": {},
     "output_type": "execute_result"
    }
   ],
   "source": [
    "0 ^ 0, 7 ^ 7 ^ 0"
   ]
  },
  {
   "cell_type": "code",
   "execution_count": 23,
   "id": "b37211a5",
   "metadata": {},
   "outputs": [
    {
     "data": {
      "text/plain": [
       "9"
      ]
     },
     "execution_count": 23,
     "metadata": {},
     "output_type": "execute_result"
    }
   ],
   "source": [
    "len([0,0,7,0,0,0,7,0,0])"
   ]
  },
  {
   "cell_type": "code",
   "execution_count": null,
   "id": "6da550d7",
   "metadata": {},
   "outputs": [],
   "source": []
  }
 ],
 "metadata": {
  "kernelspec": {
   "display_name": "Python 3 (ipykernel)",
   "language": "python",
   "name": "python3"
  },
  "language_info": {
   "codemirror_mode": {
    "name": "ipython",
    "version": 3
   },
   "file_extension": ".py",
   "mimetype": "text/x-python",
   "name": "python",
   "nbconvert_exporter": "python",
   "pygments_lexer": "ipython3",
   "version": "3.11.5"
  }
 },
 "nbformat": 4,
 "nbformat_minor": 5
}
