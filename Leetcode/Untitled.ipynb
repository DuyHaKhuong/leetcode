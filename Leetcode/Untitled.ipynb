{
 "cells": [
  {
   "cell_type": "code",
   "execution_count": 1,
   "id": "1a645480",
   "metadata": {},
   "outputs": [
    {
     "name": "stdout",
     "output_type": "stream",
     "text": [
      "Requirement already satisfied: numpy==2.3.2 in /Users/duyha/anaconda3/lib/python3.11/site-packages (2.3.2)\n",
      "Requirement already satisfied: pandas>=2.2.3 in /Users/duyha/anaconda3/lib/python3.11/site-packages (2.3.2)\n",
      "Requirement already satisfied: openpyxl in /Users/duyha/anaconda3/lib/python3.11/site-packages (3.1.5)\n",
      "Requirement already satisfied: python-dateutil>=2.8.2 in /Users/duyha/anaconda3/lib/python3.11/site-packages (from pandas>=2.2.3) (2.8.2)\n",
      "Requirement already satisfied: pytz>=2020.1 in /Users/duyha/anaconda3/lib/python3.11/site-packages (from pandas>=2.2.3) (2023.3.post1)\n",
      "Requirement already satisfied: tzdata>=2022.7 in /Users/duyha/anaconda3/lib/python3.11/site-packages (from pandas>=2.2.3) (2023.3)\n",
      "Requirement already satisfied: et-xmlfile in /Users/duyha/anaconda3/lib/python3.11/site-packages (from openpyxl) (1.1.0)\n",
      "Requirement already satisfied: six>=1.5 in /Users/duyha/anaconda3/lib/python3.11/site-packages (from python-dateutil>=2.8.2->pandas>=2.2.3) (1.16.0)\n",
      "Note: you may need to restart the kernel to use updated packages.\n"
     ]
    }
   ],
   "source": [
    "%pip install -U --no-cache-dir \"numpy==2.3.2\" \"pandas>=2.2.3\" openpyxl"
   ]
  },
  {
   "cell_type": "code",
   "execution_count": 2,
   "id": "fceb46a6",
   "metadata": {},
   "outputs": [],
   "source": [
    "a.update?"
   ]
  },
  {
   "cell_type": "code",
   "execution_count": 6,
   "id": "6e2b7af3",
   "metadata": {},
   "outputs": [
    {
     "data": {
      "text/plain": [
       "{'1': '4', '2': '5', '3': '6'}"
      ]
     },
     "execution_count": 6,
     "metadata": {},
     "output_type": "execute_result"
    }
   ],
   "source": [
    "s1 = '123'\n",
    "s2 = '456'\n",
    "{**dict(zip(s1, s2))}"
   ]
  },
  {
   "cell_type": "code",
   "execution_count": 7,
   "id": "eb930ae8",
   "metadata": {},
   "outputs": [
    {
     "data": {
      "text/plain": [
       "True"
      ]
     },
     "execution_count": 7,
     "metadata": {},
     "output_type": "execute_result"
    }
   ],
   "source": [
    "1 >= float('-inf')"
   ]
  },
  {
   "cell_type": "code",
   "execution_count": 8,
   "id": "18ac02cb",
   "metadata": {},
   "outputs": [],
   "source": [
    "from sortedcontainers import SortedList "
   ]
  },
  {
   "cell_type": "code",
   "execution_count": 9,
   "id": "a433748e",
   "metadata": {},
   "outputs": [],
   "source": [
    "sl = SortedList([4,5,6,1,2,9,8])"
   ]
  },
  {
   "cell_type": "code",
   "execution_count": 10,
   "id": "ddbd07e1",
   "metadata": {},
   "outputs": [
    {
     "data": {
      "text/plain": [
       "SortedList([1, 2, 4, 5, 6, 8, 9])"
      ]
     },
     "execution_count": 10,
     "metadata": {},
     "output_type": "execute_result"
    }
   ],
   "source": [
    "sl"
   ]
  },
  {
   "cell_type": "code",
   "execution_count": 11,
   "id": "c59d2008",
   "metadata": {},
   "outputs": [
    {
     "data": {
      "text/plain": [
       "1"
      ]
     },
     "execution_count": 11,
     "metadata": {},
     "output_type": "execute_result"
    }
   ],
   "source": [
    "sl[0]"
   ]
  },
  {
   "cell_type": "code",
   "execution_count": 12,
   "id": "13f9d2c0",
   "metadata": {},
   "outputs": [
    {
     "data": {
      "text/plain": [
       "9"
      ]
     },
     "execution_count": 12,
     "metadata": {},
     "output_type": "execute_result"
    }
   ],
   "source": [
    "sl[-1]"
   ]
  },
  {
   "cell_type": "code",
   "execution_count": 18,
   "id": "b553b6cd",
   "metadata": {},
   "outputs": [],
   "source": [
    "sl.add(123)\n",
    "sl.add(-10)"
   ]
  },
  {
   "cell_type": "code",
   "execution_count": 20,
   "id": "daa8d8c3",
   "metadata": {},
   "outputs": [],
   "source": [
    "from collections import defaultdict"
   ]
  },
  {
   "cell_type": "code",
   "execution_count": 28,
   "id": "2fc5dbc3",
   "metadata": {},
   "outputs": [],
   "source": [
    "a = defaultdict(int)"
   ]
  },
  {
   "cell_type": "code",
   "execution_count": 29,
   "id": "658cf50e",
   "metadata": {},
   "outputs": [],
   "source": [
    "a[3] += 3"
   ]
  },
  {
   "cell_type": "code",
   "execution_count": 25,
   "id": "7b7196a1",
   "metadata": {},
   "outputs": [
    {
     "data": {
      "text/plain": [
       "defaultdict(int, {3: 3})"
      ]
     },
     "execution_count": 25,
     "metadata": {},
     "output_type": "execute_result"
    }
   ],
   "source": [
    "a"
   ]
  },
  {
   "cell_type": "code",
   "execution_count": 30,
   "id": "e72f9096",
   "metadata": {},
   "outputs": [
    {
     "data": {
      "text/plain": [
       "1"
      ]
     },
     "execution_count": 30,
     "metadata": {},
     "output_type": "execute_result"
    }
   ],
   "source": [
    "3 // 2"
   ]
  },
  {
   "cell_type": "code",
   "execution_count": 31,
   "id": "b73fd5c6",
   "metadata": {},
   "outputs": [
    {
     "data": {
      "text/plain": [
       "-1"
      ]
     },
     "execution_count": 31,
     "metadata": {},
     "output_type": "execute_result"
    }
   ],
   "source": [
    "-1 // 2"
   ]
  },
  {
   "cell_type": "code",
   "execution_count": 32,
   "id": "fea25e7a",
   "metadata": {},
   "outputs": [
    {
     "data": {
      "text/plain": [
       "0"
      ]
     },
     "execution_count": 32,
     "metadata": {},
     "output_type": "execute_result"
    }
   ],
   "source": [
    "1// 2"
   ]
  },
  {
   "cell_type": "code",
   "execution_count": 35,
   "id": "fcac859c",
   "metadata": {},
   "outputs": [
    {
     "data": {
      "text/plain": [
       "359279442"
      ]
     },
     "execution_count": 35,
     "metadata": {},
     "output_type": "execute_result"
    }
   ],
   "source": [
    "int('000010101011010100010101101010010', 2)"
   ]
  },
  {
   "cell_type": "code",
   "execution_count": 37,
   "id": "f240848a",
   "metadata": {},
   "outputs": [
    {
     "data": {
      "text/plain": [
       "(1, 3)"
      ]
     },
     "execution_count": 37,
     "metadata": {},
     "output_type": "execute_result"
    }
   ],
   "source": [
    "max((1, 2), (1, 3))"
   ]
  },
  {
   "cell_type": "code",
   "execution_count": 38,
   "id": "8874256a",
   "metadata": {},
   "outputs": [
    {
     "data": {
      "text/plain": [
       "(1, 3)"
      ]
     },
     "execution_count": 38,
     "metadata": {},
     "output_type": "execute_result"
    }
   ],
   "source": [
    "max((1, 3), (1, 2))"
   ]
  },
  {
   "cell_type": "code",
   "execution_count": 43,
   "id": "4d82dc6d",
   "metadata": {},
   "outputs": [],
   "source": [
    "a = [1,2,3,4,5]"
   ]
  },
  {
   "cell_type": "code",
   "execution_count": 44,
   "id": "e1ddd761",
   "metadata": {},
   "outputs": [],
   "source": [
    "a[2:4] += a[1:3]"
   ]
  },
  {
   "cell_type": "code",
   "execution_count": 45,
   "id": "20ea3e0e",
   "metadata": {},
   "outputs": [
    {
     "data": {
      "text/plain": [
       "[1, 2, 3, 4, 2, 3, 5]"
      ]
     },
     "execution_count": 45,
     "metadata": {},
     "output_type": "execute_result"
    }
   ],
   "source": [
    "a"
   ]
  },
  {
   "cell_type": "code",
   "execution_count": 2,
   "id": "fd3170e1",
   "metadata": {},
   "outputs": [
    {
     "name": "stdout",
     "output_type": "stream",
     "text": [
      "2.3.2\n"
     ]
    }
   ],
   "source": [
    "import numpy as np\n",
    "import numpy as np; print(np.__version__)\n"
   ]
  },
  {
   "cell_type": "code",
   "execution_count": 5,
   "id": "408f19f6",
   "metadata": {},
   "outputs": [
    {
     "data": {
      "text/plain": [
       "array([  1,   2, 110])"
      ]
     },
     "execution_count": 5,
     "metadata": {},
     "output_type": "execute_result"
    }
   ],
   "source": [
    "a = np.array([1,2,3])\n",
    "a[2] = 110\n",
    "a"
   ]
  },
  {
   "cell_type": "code",
   "execution_count": null,
   "id": "4cebaecc",
   "metadata": {},
   "outputs": [],
   "source": []
  },
  {
   "cell_type": "code",
   "execution_count": 8,
   "id": "3398d67d",
   "metadata": {},
   "outputs": [
    {
     "data": {
      "text/plain": [
       "array([[False, False, False],\n",
       "       [False, False, False]])"
      ]
     },
     "execution_count": 8,
     "metadata": {},
     "output_type": "execute_result"
    }
   ],
   "source": [
    "a = np.zeros((2, 3), dtype=bool)\n",
    "a "
   ]
  },
  {
   "cell_type": "code",
   "execution_count": 9,
   "id": "fe6c6dad",
   "metadata": {},
   "outputs": [
    {
     "data": {
      "text/plain": [
       "(2, 3)"
      ]
     },
     "execution_count": 9,
     "metadata": {},
     "output_type": "execute_result"
    }
   ],
   "source": [
    "len(a), len(a[0])"
   ]
  },
  {
   "cell_type": "code",
   "execution_count": 5,
   "id": "a192b0b0",
   "metadata": {},
   "outputs": [],
   "source": [
    "import pandas as pd"
   ]
  },
  {
   "cell_type": "code",
   "execution_count": 6,
   "id": "072ea8bb",
   "metadata": {},
   "outputs": [],
   "source": [
    "f1 = 'moon1.dog_-_By_Service.xlsx'\n",
    "# f2 = "
   ]
  },
  {
   "cell_type": "code",
   "execution_count": 9,
   "id": "d0621eb5",
   "metadata": {},
   "outputs": [
    {
     "name": "stdout",
     "output_type": "stream",
     "text": [
      "['Sheet1']\n"
     ]
    },
    {
     "data": {
      "text/html": [
       "<div>\n",
       "<style scoped>\n",
       "    .dataframe tbody tr th:only-of-type {\n",
       "        vertical-align: middle;\n",
       "    }\n",
       "\n",
       "    .dataframe tbody tr th {\n",
       "        vertical-align: top;\n",
       "    }\n",
       "\n",
       "    .dataframe thead th {\n",
       "        text-align: right;\n",
       "    }\n",
       "</style>\n",
       "<table border=\"1\" class=\"dataframe\">\n",
       "  <thead>\n",
       "    <tr style=\"text-align: right;\">\n",
       "      <th></th>\n",
       "      <th>Service</th>\n",
       "      <th>API Gateway($)</th>\n",
       "      <th>Elastic File System($)</th>\n",
       "      <th>X-Ray($)</th>\n",
       "      <th>SES($)</th>\n",
       "      <th>SNS($)</th>\n",
       "      <th>ElastiCache($)</th>\n",
       "      <th>SimpleDB($)</th>\n",
       "      <th>Tax($)</th>\n",
       "      <th>Config($)</th>\n",
       "      <th>...</th>\n",
       "      <th>WAF($)</th>\n",
       "      <th>Redshift($)</th>\n",
       "      <th>EC2 Container Registry (ECR)($)</th>\n",
       "      <th>EC2-Instances($)</th>\n",
       "      <th>SQS($)</th>\n",
       "      <th>Budgets($)</th>\n",
       "      <th>CloudSearch($)</th>\n",
       "      <th>Athena($)</th>\n",
       "      <th>EC2-Other($)</th>\n",
       "      <th>Total cost ($)</th>\n",
       "    </tr>\n",
       "  </thead>\n",
       "  <tbody>\n",
       "    <tr>\n",
       "      <th>0</th>\n",
       "      <td>Service Total</td>\n",
       "      <td>5.920412</td>\n",
       "      <td>0.919388</td>\n",
       "      <td>0.0</td>\n",
       "      <td>0.100271</td>\n",
       "      <td>14.449259</td>\n",
       "      <td>6588.672</td>\n",
       "      <td>0.000027</td>\n",
       "      <td>3601.57</td>\n",
       "      <td>1231.663</td>\n",
       "      <td>...</td>\n",
       "      <td>14.999997</td>\n",
       "      <td>7273.35</td>\n",
       "      <td>96.036537</td>\n",
       "      <td>2.748019e+06</td>\n",
       "      <td>110.568122</td>\n",
       "      <td>0</td>\n",
       "      <td>12528.303030</td>\n",
       "      <td>0.12901</td>\n",
       "      <td>671008.5002</td>\n",
       "      <td>4655484.685</td>\n",
       "    </tr>\n",
       "    <tr>\n",
       "      <th>1</th>\n",
       "      <td>January</td>\n",
       "      <td>0.486613</td>\n",
       "      <td>0.919388</td>\n",
       "      <td>NaN</td>\n",
       "      <td>0.033560</td>\n",
       "      <td>6.732994</td>\n",
       "      <td>2220.096</td>\n",
       "      <td>0.000008</td>\n",
       "      <td>1284.13</td>\n",
       "      <td>338.221</td>\n",
       "      <td>...</td>\n",
       "      <td>5.000000</td>\n",
       "      <td>2449.35</td>\n",
       "      <td>50.565163</td>\n",
       "      <td>8.541583e+05</td>\n",
       "      <td>31.096825</td>\n",
       "      <td>0</td>\n",
       "      <td>4492.547501</td>\n",
       "      <td>0.12431</td>\n",
       "      <td>245472.5549</td>\n",
       "      <td>1554168.747</td>\n",
       "    </tr>\n",
       "    <tr>\n",
       "      <th>2</th>\n",
       "      <td>February</td>\n",
       "      <td>0.517401</td>\n",
       "      <td>0.000000</td>\n",
       "      <td>NaN</td>\n",
       "      <td>0.034722</td>\n",
       "      <td>4.125028</td>\n",
       "      <td>2148.480</td>\n",
       "      <td>0.000012</td>\n",
       "      <td>1158.03</td>\n",
       "      <td>415.720</td>\n",
       "      <td>...</td>\n",
       "      <td>4.999997</td>\n",
       "      <td>2372.95</td>\n",
       "      <td>30.223630</td>\n",
       "      <td>8.840529e+05</td>\n",
       "      <td>30.754074</td>\n",
       "      <td>0</td>\n",
       "      <td>3953.060088</td>\n",
       "      <td>0.00470</td>\n",
       "      <td>213944.7836</td>\n",
       "      <td>1492007.023</td>\n",
       "    </tr>\n",
       "    <tr>\n",
       "      <th>3</th>\n",
       "      <td>March</td>\n",
       "      <td>4.916398</td>\n",
       "      <td>0.000000</td>\n",
       "      <td>0.0</td>\n",
       "      <td>0.031989</td>\n",
       "      <td>3.591236</td>\n",
       "      <td>2220.096</td>\n",
       "      <td>0.000007</td>\n",
       "      <td>1159.41</td>\n",
       "      <td>477.722</td>\n",
       "      <td>...</td>\n",
       "      <td>5.000000</td>\n",
       "      <td>2451.05</td>\n",
       "      <td>15.247744</td>\n",
       "      <td>1.009808e+06</td>\n",
       "      <td>48.717223</td>\n",
       "      <td>0</td>\n",
       "      <td>4082.695439</td>\n",
       "      <td>NaN</td>\n",
       "      <td>211591.1617</td>\n",
       "      <td>1609308.915</td>\n",
       "    </tr>\n",
       "  </tbody>\n",
       "</table>\n",
       "<p>4 rows × 39 columns</p>\n",
       "</div>"
      ],
      "text/plain": [
       "         Service  API Gateway($)  Elastic File System($)  X-Ray($)    SES($)  \\\n",
       "0  Service Total        5.920412                0.919388       0.0  0.100271   \n",
       "1        January        0.486613                0.919388       NaN  0.033560   \n",
       "2       February        0.517401                0.000000       NaN  0.034722   \n",
       "3          March        4.916398                0.000000       0.0  0.031989   \n",
       "\n",
       "      SNS($)  ElastiCache($)  SimpleDB($)   Tax($)  Config($)  ...     WAF($)  \\\n",
       "0  14.449259        6588.672     0.000027  3601.57   1231.663  ...  14.999997   \n",
       "1   6.732994        2220.096     0.000008  1284.13    338.221  ...   5.000000   \n",
       "2   4.125028        2148.480     0.000012  1158.03    415.720  ...   4.999997   \n",
       "3   3.591236        2220.096     0.000007  1159.41    477.722  ...   5.000000   \n",
       "\n",
       "   Redshift($)  EC2 Container Registry (ECR)($)  EC2-Instances($)      SQS($)  \\\n",
       "0      7273.35                        96.036537      2.748019e+06  110.568122   \n",
       "1      2449.35                        50.565163      8.541583e+05   31.096825   \n",
       "2      2372.95                        30.223630      8.840529e+05   30.754074   \n",
       "3      2451.05                        15.247744      1.009808e+06   48.717223   \n",
       "\n",
       "   Budgets($)  CloudSearch($)  Athena($)  EC2-Other($)  Total cost ($)  \n",
       "0           0    12528.303030    0.12901   671008.5002     4655484.685  \n",
       "1           0     4492.547501    0.12431   245472.5549     1554168.747  \n",
       "2           0     3953.060088    0.00470   213944.7836     1492007.023  \n",
       "3           0     4082.695439        NaN   211591.1617     1609308.915  \n",
       "\n",
       "[4 rows x 39 columns]"
      ]
     },
     "metadata": {},
     "output_type": "display_data"
    }
   ],
   "source": [
    "import pandas as pd\n",
    "from pathlib import Path\n",
    "\n",
    "path = Path(\"/Users/duyha/Downloads/moon1.dog_-_By_Service.xlsx\")\n",
    "sheets = pd.read_excel(path, sheet_name=None)  # dict of {sheet_name: DataFrame}\n",
    "print(list(sheets.keys()))\n",
    "display(sheets[next(iter(sheets))].head())  # show first sheet"
   ]
  },
  {
   "cell_type": "code",
   "execution_count": null,
   "id": "541a7641",
   "metadata": {},
   "outputs": [],
   "source": []
  },
  {
   "cell_type": "code",
   "execution_count": 71,
   "id": "bc9e3229",
   "metadata": {},
   "outputs": [
    {
     "data": {
      "text/html": [
       "<div>\n",
       "<style scoped>\n",
       "    .dataframe tbody tr th:only-of-type {\n",
       "        vertical-align: middle;\n",
       "    }\n",
       "\n",
       "    .dataframe tbody tr th {\n",
       "        vertical-align: top;\n",
       "    }\n",
       "\n",
       "    .dataframe thead th {\n",
       "        text-align: right;\n",
       "    }\n",
       "</style>\n",
       "<table border=\"1\" class=\"dataframe\">\n",
       "  <thead>\n",
       "    <tr style=\"text-align: right;\">\n",
       "      <th></th>\n",
       "      <th>Service</th>\n",
       "      <th>API Gateway($)</th>\n",
       "      <th>Elastic File System($)</th>\n",
       "      <th>X-Ray($)</th>\n",
       "      <th>SES($)</th>\n",
       "      <th>SNS($)</th>\n",
       "      <th>ElastiCache($)</th>\n",
       "      <th>SimpleDB($)</th>\n",
       "      <th>Tax($)</th>\n",
       "      <th>Config($)</th>\n",
       "      <th>...</th>\n",
       "      <th>WAF($)</th>\n",
       "      <th>Redshift($)</th>\n",
       "      <th>EC2 Container Registry (ECR)($)</th>\n",
       "      <th>EC2-Instances($)</th>\n",
       "      <th>SQS($)</th>\n",
       "      <th>Budgets($)</th>\n",
       "      <th>CloudSearch($)</th>\n",
       "      <th>Athena($)</th>\n",
       "      <th>EC2-Other($)</th>\n",
       "      <th>Total cost ($)</th>\n",
       "    </tr>\n",
       "  </thead>\n",
       "  <tbody>\n",
       "    <tr>\n",
       "      <th>0</th>\n",
       "      <td>Service Total</td>\n",
       "      <td>5.920412</td>\n",
       "      <td>0.919388</td>\n",
       "      <td>0.0</td>\n",
       "      <td>0.100271</td>\n",
       "      <td>14.449259</td>\n",
       "      <td>6588.672</td>\n",
       "      <td>0.000027</td>\n",
       "      <td>3601.57</td>\n",
       "      <td>1231.663</td>\n",
       "      <td>...</td>\n",
       "      <td>14.999997</td>\n",
       "      <td>7273.35</td>\n",
       "      <td>96.036537</td>\n",
       "      <td>2.748019e+06</td>\n",
       "      <td>110.568122</td>\n",
       "      <td>0</td>\n",
       "      <td>12528.303030</td>\n",
       "      <td>0.12901</td>\n",
       "      <td>671008.5002</td>\n",
       "      <td>4655484.685</td>\n",
       "    </tr>\n",
       "    <tr>\n",
       "      <th>1</th>\n",
       "      <td>January</td>\n",
       "      <td>0.486613</td>\n",
       "      <td>0.919388</td>\n",
       "      <td>NaN</td>\n",
       "      <td>0.033560</td>\n",
       "      <td>6.732994</td>\n",
       "      <td>2220.096</td>\n",
       "      <td>0.000008</td>\n",
       "      <td>1284.13</td>\n",
       "      <td>338.221</td>\n",
       "      <td>...</td>\n",
       "      <td>5.000000</td>\n",
       "      <td>2449.35</td>\n",
       "      <td>50.565163</td>\n",
       "      <td>8.541583e+05</td>\n",
       "      <td>31.096825</td>\n",
       "      <td>0</td>\n",
       "      <td>4492.547501</td>\n",
       "      <td>0.12431</td>\n",
       "      <td>245472.5549</td>\n",
       "      <td>1554168.747</td>\n",
       "    </tr>\n",
       "    <tr>\n",
       "      <th>2</th>\n",
       "      <td>February</td>\n",
       "      <td>0.517401</td>\n",
       "      <td>0.000000</td>\n",
       "      <td>NaN</td>\n",
       "      <td>0.034722</td>\n",
       "      <td>4.125028</td>\n",
       "      <td>2148.480</td>\n",
       "      <td>0.000012</td>\n",
       "      <td>1158.03</td>\n",
       "      <td>415.720</td>\n",
       "      <td>...</td>\n",
       "      <td>4.999997</td>\n",
       "      <td>2372.95</td>\n",
       "      <td>30.223630</td>\n",
       "      <td>8.840529e+05</td>\n",
       "      <td>30.754074</td>\n",
       "      <td>0</td>\n",
       "      <td>3953.060088</td>\n",
       "      <td>0.00470</td>\n",
       "      <td>213944.7836</td>\n",
       "      <td>1492007.023</td>\n",
       "    </tr>\n",
       "    <tr>\n",
       "      <th>3</th>\n",
       "      <td>March</td>\n",
       "      <td>4.916398</td>\n",
       "      <td>0.000000</td>\n",
       "      <td>0.0</td>\n",
       "      <td>0.031989</td>\n",
       "      <td>3.591236</td>\n",
       "      <td>2220.096</td>\n",
       "      <td>0.000007</td>\n",
       "      <td>1159.41</td>\n",
       "      <td>477.722</td>\n",
       "      <td>...</td>\n",
       "      <td>5.000000</td>\n",
       "      <td>2451.05</td>\n",
       "      <td>15.247744</td>\n",
       "      <td>1.009808e+06</td>\n",
       "      <td>48.717223</td>\n",
       "      <td>0</td>\n",
       "      <td>4082.695439</td>\n",
       "      <td>NaN</td>\n",
       "      <td>211591.1617</td>\n",
       "      <td>1609308.915</td>\n",
       "    </tr>\n",
       "  </tbody>\n",
       "</table>\n",
       "<p>4 rows × 39 columns</p>\n",
       "</div>"
      ],
      "text/plain": [
       "         Service  API Gateway($)  Elastic File System($)  X-Ray($)    SES($)  \\\n",
       "0  Service Total        5.920412                0.919388       0.0  0.100271   \n",
       "1        January        0.486613                0.919388       NaN  0.033560   \n",
       "2       February        0.517401                0.000000       NaN  0.034722   \n",
       "3          March        4.916398                0.000000       0.0  0.031989   \n",
       "\n",
       "      SNS($)  ElastiCache($)  SimpleDB($)   Tax($)  Config($)  ...     WAF($)  \\\n",
       "0  14.449259        6588.672     0.000027  3601.57   1231.663  ...  14.999997   \n",
       "1   6.732994        2220.096     0.000008  1284.13    338.221  ...   5.000000   \n",
       "2   4.125028        2148.480     0.000012  1158.03    415.720  ...   4.999997   \n",
       "3   3.591236        2220.096     0.000007  1159.41    477.722  ...   5.000000   \n",
       "\n",
       "   Redshift($)  EC2 Container Registry (ECR)($)  EC2-Instances($)      SQS($)  \\\n",
       "0      7273.35                        96.036537      2.748019e+06  110.568122   \n",
       "1      2449.35                        50.565163      8.541583e+05   31.096825   \n",
       "2      2372.95                        30.223630      8.840529e+05   30.754074   \n",
       "3      2451.05                        15.247744      1.009808e+06   48.717223   \n",
       "\n",
       "   Budgets($)  CloudSearch($)  Athena($)  EC2-Other($)  Total cost ($)  \n",
       "0           0    12528.303030    0.12901   671008.5002     4655484.685  \n",
       "1           0     4492.547501    0.12431   245472.5549     1554168.747  \n",
       "2           0     3953.060088    0.00470   213944.7836     1492007.023  \n",
       "3           0     4082.695439        NaN   211591.1617     1609308.915  \n",
       "\n",
       "[4 rows x 39 columns]"
      ]
     },
     "metadata": {},
     "output_type": "display_data"
    },
    {
     "data": {
      "text/html": [
       "<div>\n",
       "<style scoped>\n",
       "    .dataframe tbody tr th:only-of-type {\n",
       "        vertical-align: middle;\n",
       "    }\n",
       "\n",
       "    .dataframe tbody tr th {\n",
       "        vertical-align: top;\n",
       "    }\n",
       "\n",
       "    .dataframe thead th {\n",
       "        text-align: right;\n",
       "    }\n",
       "</style>\n",
       "<table border=\"1\" class=\"dataframe\">\n",
       "  <thead>\n",
       "    <tr style=\"text-align: right;\">\n",
       "      <th></th>\n",
       "      <th>UsageType</th>\n",
       "      <th>APS3-DataTransfer-In-Bytes($)</th>\n",
       "      <th>USW1-APN2-AWS-Out-Bytes($)</th>\n",
       "      <th>USW1-USE2-AWS-In-Bytes($)</th>\n",
       "      <th>DeliveryAttempts-SMTP($)</th>\n",
       "      <th>USW2-NatGateway-Bytes($)</th>\n",
       "      <th>USE1-USE2-AWS-Out-Bytes($)</th>\n",
       "      <th>USW2-UGW1-AWS-Out-Bytes($)</th>\n",
       "      <th>APS3-RDS:GP2-Storage($)</th>\n",
       "      <th>EU-DataTransfer-In-Bytes($)</th>\n",
       "      <th>...</th>\n",
       "      <th>JP-Requests-Tier2-HTTPS($)</th>\n",
       "      <th>USE2-FreeEventsRecorded($)</th>\n",
       "      <th>BoxUsage:t2.xlarge($)</th>\n",
       "      <th>us-east-2-KMS-Requests($)</th>\n",
       "      <th>USW1-EUW2-AWS-In-Bytes($)</th>\n",
       "      <th>RDS:Multi-AZ-StorageUsage($)</th>\n",
       "      <th>APS3-APS1-AWS-Out-Bytes($)</th>\n",
       "      <th>HeavyUsage:m3.2xlarge($)</th>\n",
       "      <th>USE1-EUC1-AWS-Out-Bytes($)</th>\n",
       "      <th>Total cost ($)</th>\n",
       "    </tr>\n",
       "  </thead>\n",
       "  <tbody>\n",
       "    <tr>\n",
       "      <th>0</th>\n",
       "      <td>UsageType Total</td>\n",
       "      <td>0</td>\n",
       "      <td>0.017371</td>\n",
       "      <td>0</td>\n",
       "      <td>0</td>\n",
       "      <td>3.800000e-07</td>\n",
       "      <td>171.055233</td>\n",
       "      <td>1.400000e-07</td>\n",
       "      <td>1.965004</td>\n",
       "      <td>0</td>\n",
       "      <td>...</td>\n",
       "      <td>11.641636</td>\n",
       "      <td>0</td>\n",
       "      <td>256.478</td>\n",
       "      <td>0.000042</td>\n",
       "      <td>0</td>\n",
       "      <td>12.053761</td>\n",
       "      <td>0.000014</td>\n",
       "      <td>16024.235540</td>\n",
       "      <td>1694.964273</td>\n",
       "      <td>4655484.685</td>\n",
       "    </tr>\n",
       "    <tr>\n",
       "      <th>1</th>\n",
       "      <td>January</td>\n",
       "      <td>0</td>\n",
       "      <td>0.001450</td>\n",
       "      <td>0</td>\n",
       "      <td>0</td>\n",
       "      <td>NaN</td>\n",
       "      <td>68.021348</td>\n",
       "      <td>NaN</td>\n",
       "      <td>0.655003</td>\n",
       "      <td>0</td>\n",
       "      <td>...</td>\n",
       "      <td>4.146440</td>\n",
       "      <td>0</td>\n",
       "      <td>3.948</td>\n",
       "      <td>0.000006</td>\n",
       "      <td>0</td>\n",
       "      <td>4.053760</td>\n",
       "      <td>0.000005</td>\n",
       "      <td>5399.649936</td>\n",
       "      <td>613.066400</td>\n",
       "      <td>1554168.747</td>\n",
       "    </tr>\n",
       "    <tr>\n",
       "      <th>2</th>\n",
       "      <td>February</td>\n",
       "      <td>0</td>\n",
       "      <td>0.007505</td>\n",
       "      <td>0</td>\n",
       "      <td>0</td>\n",
       "      <td>NaN</td>\n",
       "      <td>56.901303</td>\n",
       "      <td>NaN</td>\n",
       "      <td>0.654998</td>\n",
       "      <td>0</td>\n",
       "      <td>...</td>\n",
       "      <td>3.857268</td>\n",
       "      <td>0</td>\n",
       "      <td>98.528</td>\n",
       "      <td>0.000027</td>\n",
       "      <td>0</td>\n",
       "      <td>4.000003</td>\n",
       "      <td>0.000003</td>\n",
       "      <td>5225.467680</td>\n",
       "      <td>556.394938</td>\n",
       "      <td>1492007.023</td>\n",
       "    </tr>\n",
       "    <tr>\n",
       "      <th>3</th>\n",
       "      <td>March</td>\n",
       "      <td>0</td>\n",
       "      <td>0.008416</td>\n",
       "      <td>0</td>\n",
       "      <td>0</td>\n",
       "      <td>3.800000e-07</td>\n",
       "      <td>46.132582</td>\n",
       "      <td>1.400000e-07</td>\n",
       "      <td>0.655003</td>\n",
       "      <td>0</td>\n",
       "      <td>...</td>\n",
       "      <td>3.637927</td>\n",
       "      <td>0</td>\n",
       "      <td>154.002</td>\n",
       "      <td>0.000009</td>\n",
       "      <td>0</td>\n",
       "      <td>3.999997</td>\n",
       "      <td>0.000006</td>\n",
       "      <td>5399.117927</td>\n",
       "      <td>525.502935</td>\n",
       "      <td>1609308.915</td>\n",
       "    </tr>\n",
       "  </tbody>\n",
       "</table>\n",
       "<p>4 rows × 710 columns</p>\n",
       "</div>"
      ],
      "text/plain": [
       "         UsageType  APS3-DataTransfer-In-Bytes($)  USW1-APN2-AWS-Out-Bytes($)  \\\n",
       "0  UsageType Total                              0                    0.017371   \n",
       "1          January                              0                    0.001450   \n",
       "2         February                              0                    0.007505   \n",
       "3            March                              0                    0.008416   \n",
       "\n",
       "   USW1-USE2-AWS-In-Bytes($)  DeliveryAttempts-SMTP($)  \\\n",
       "0                          0                         0   \n",
       "1                          0                         0   \n",
       "2                          0                         0   \n",
       "3                          0                         0   \n",
       "\n",
       "   USW2-NatGateway-Bytes($)  USE1-USE2-AWS-Out-Bytes($)  \\\n",
       "0              3.800000e-07                  171.055233   \n",
       "1                       NaN                   68.021348   \n",
       "2                       NaN                   56.901303   \n",
       "3              3.800000e-07                   46.132582   \n",
       "\n",
       "   USW2-UGW1-AWS-Out-Bytes($)  APS3-RDS:GP2-Storage($)  \\\n",
       "0                1.400000e-07                 1.965004   \n",
       "1                         NaN                 0.655003   \n",
       "2                         NaN                 0.654998   \n",
       "3                1.400000e-07                 0.655003   \n",
       "\n",
       "   EU-DataTransfer-In-Bytes($)  ...  JP-Requests-Tier2-HTTPS($)  \\\n",
       "0                            0  ...                   11.641636   \n",
       "1                            0  ...                    4.146440   \n",
       "2                            0  ...                    3.857268   \n",
       "3                            0  ...                    3.637927   \n",
       "\n",
       "   USE2-FreeEventsRecorded($)  BoxUsage:t2.xlarge($)  \\\n",
       "0                           0                256.478   \n",
       "1                           0                  3.948   \n",
       "2                           0                 98.528   \n",
       "3                           0                154.002   \n",
       "\n",
       "   us-east-2-KMS-Requests($)  USW1-EUW2-AWS-In-Bytes($)  \\\n",
       "0                   0.000042                          0   \n",
       "1                   0.000006                          0   \n",
       "2                   0.000027                          0   \n",
       "3                   0.000009                          0   \n",
       "\n",
       "   RDS:Multi-AZ-StorageUsage($)  APS3-APS1-AWS-Out-Bytes($)  \\\n",
       "0                     12.053761                    0.000014   \n",
       "1                      4.053760                    0.000005   \n",
       "2                      4.000003                    0.000003   \n",
       "3                      3.999997                    0.000006   \n",
       "\n",
       "   HeavyUsage:m3.2xlarge($)  USE1-EUC1-AWS-Out-Bytes($)  Total cost ($)  \n",
       "0              16024.235540                 1694.964273     4655484.685  \n",
       "1               5399.649936                  613.066400     1554168.747  \n",
       "2               5225.467680                  556.394938     1492007.023  \n",
       "3               5399.117927                  525.502935     1609308.915  \n",
       "\n",
       "[4 rows x 710 columns]"
      ]
     },
     "metadata": {},
     "output_type": "display_data"
    }
   ],
   "source": [
    "import pandas as pd\n",
    "from pathlib import Path\n",
    "\n",
    "# Paths to the Excel files\n",
    "p_service = Path(\"/Users/duyha/Downloads/moon1.dog_-_By_Service.xlsx\")\n",
    "p_usage   = Path(\"/Users/duyha/Downloads/moon1.dog_-_By_Usage_Type_2.xlsx\")\n",
    "\n",
    "# Load the first sheet from each file (change sheet_name if needed)\n",
    "df_service = pd.read_excel(p_service, sheet_name=0)  # e.g., sheet_name=\"By Service\"\n",
    "df_usage   = pd.read_excel(p_usage,   sheet_name=0)  # e.g., sheet_name=\"By Usage Type 2\"\n",
    "\n",
    "# Peek at the data\n",
    "display(df_service.head())\n",
    "display(df_usage.head())\n",
    "\n",
    "# Optional: list sheet names if you need to target a specific sheet\n",
    "# print(pd.ExcelFile(p_service).sheet_names)\n",
    "# print(pd.ExcelFile(p_usage).sheet_names)\n"
   ]
  },
  {
   "cell_type": "code",
   "execution_count": 14,
   "id": "fe66180e",
   "metadata": {},
   "outputs": [
    {
     "data": {
      "text/html": [
       "<div>\n",
       "<style scoped>\n",
       "    .dataframe tbody tr th:only-of-type {\n",
       "        vertical-align: middle;\n",
       "    }\n",
       "\n",
       "    .dataframe tbody tr th {\n",
       "        vertical-align: top;\n",
       "    }\n",
       "\n",
       "    .dataframe thead th {\n",
       "        text-align: right;\n",
       "    }\n",
       "</style>\n",
       "<table border=\"1\" class=\"dataframe\">\n",
       "  <thead>\n",
       "    <tr style=\"text-align: right;\">\n",
       "      <th></th>\n",
       "      <th>0</th>\n",
       "      <th>1</th>\n",
       "      <th>2</th>\n",
       "      <th>3</th>\n",
       "    </tr>\n",
       "  </thead>\n",
       "  <tbody>\n",
       "    <tr>\n",
       "      <th>Service</th>\n",
       "      <td>Service Total</td>\n",
       "      <td>January</td>\n",
       "      <td>February</td>\n",
       "      <td>March</td>\n",
       "    </tr>\n",
       "    <tr>\n",
       "      <th>API Gateway($)</th>\n",
       "      <td>5.920412</td>\n",
       "      <td>0.486613</td>\n",
       "      <td>0.517401</td>\n",
       "      <td>4.916398</td>\n",
       "    </tr>\n",
       "    <tr>\n",
       "      <th>Elastic File System($)</th>\n",
       "      <td>0.919388</td>\n",
       "      <td>0.919388</td>\n",
       "      <td>0.0</td>\n",
       "      <td>0.0</td>\n",
       "    </tr>\n",
       "    <tr>\n",
       "      <th>X-Ray($)</th>\n",
       "      <td>0.0</td>\n",
       "      <td>NaN</td>\n",
       "      <td>NaN</td>\n",
       "      <td>0.0</td>\n",
       "    </tr>\n",
       "    <tr>\n",
       "      <th>SES($)</th>\n",
       "      <td>0.100271</td>\n",
       "      <td>0.03356</td>\n",
       "      <td>0.034722</td>\n",
       "      <td>0.031989</td>\n",
       "    </tr>\n",
       "    <tr>\n",
       "      <th>SNS($)</th>\n",
       "      <td>14.449259</td>\n",
       "      <td>6.732994</td>\n",
       "      <td>4.125028</td>\n",
       "      <td>3.591236</td>\n",
       "    </tr>\n",
       "    <tr>\n",
       "      <th>ElastiCache($)</th>\n",
       "      <td>6588.672</td>\n",
       "      <td>2220.096</td>\n",
       "      <td>2148.48</td>\n",
       "      <td>2220.096</td>\n",
       "    </tr>\n",
       "    <tr>\n",
       "      <th>SimpleDB($)</th>\n",
       "      <td>0.000027</td>\n",
       "      <td>0.000008</td>\n",
       "      <td>0.000012</td>\n",
       "      <td>0.000007</td>\n",
       "    </tr>\n",
       "    <tr>\n",
       "      <th>Tax($)</th>\n",
       "      <td>3601.57</td>\n",
       "      <td>1284.13</td>\n",
       "      <td>1158.03</td>\n",
       "      <td>1159.41</td>\n",
       "    </tr>\n",
       "    <tr>\n",
       "      <th>Config($)</th>\n",
       "      <td>1231.663</td>\n",
       "      <td>338.221</td>\n",
       "      <td>415.72</td>\n",
       "      <td>477.722</td>\n",
       "    </tr>\n",
       "    <tr>\n",
       "      <th>Kinesis Firehose($)</th>\n",
       "      <td>29.101089</td>\n",
       "      <td>10.820412</td>\n",
       "      <td>9.763655</td>\n",
       "      <td>8.517022</td>\n",
       "    </tr>\n",
       "    <tr>\n",
       "      <th>WorkSpaces($)</th>\n",
       "      <td>0.0</td>\n",
       "      <td>NaN</td>\n",
       "      <td>0.0</td>\n",
       "      <td>NaN</td>\n",
       "    </tr>\n",
       "    <tr>\n",
       "      <th>Route 53($)</th>\n",
       "      <td>2773.201915</td>\n",
       "      <td>1020.425738</td>\n",
       "      <td>1065.593793</td>\n",
       "      <td>687.182383</td>\n",
       "    </tr>\n",
       "    <tr>\n",
       "      <th>CloudWatch($)</th>\n",
       "      <td>14490.36061</td>\n",
       "      <td>14428.61185</td>\n",
       "      <td>49.906899</td>\n",
       "      <td>11.84186</td>\n",
       "    </tr>\n",
       "    <tr>\n",
       "      <th>Key Management Service($)</th>\n",
       "      <td>843.288562</td>\n",
       "      <td>302.00245</td>\n",
       "      <td>283.462042</td>\n",
       "      <td>257.824069</td>\n",
       "    </tr>\n",
       "    <tr>\n",
       "      <th>DynamoDB($)</th>\n",
       "      <td>843.043375</td>\n",
       "      <td>438.398867</td>\n",
       "      <td>227.749928</td>\n",
       "      <td>176.89458</td>\n",
       "    </tr>\n",
       "    <tr>\n",
       "      <th>Lambda($)</th>\n",
       "      <td>234.2066</td>\n",
       "      <td>157.224455</td>\n",
       "      <td>33.443694</td>\n",
       "      <td>43.538451</td>\n",
       "    </tr>\n",
       "    <tr>\n",
       "      <th>Elasticsearch Service($)</th>\n",
       "      <td>16863.41042</td>\n",
       "      <td>7940.945035</td>\n",
       "      <td>4824.428884</td>\n",
       "      <td>4098.036505</td>\n",
       "    </tr>\n",
       "    <tr>\n",
       "      <th>Premium Support($)</th>\n",
       "      <td>165000</td>\n",
       "      <td>55000</td>\n",
       "      <td>55000</td>\n",
       "      <td>55000</td>\n",
       "    </tr>\n",
       "    <tr>\n",
       "      <th>Inspector($)</th>\n",
       "      <td>0.0</td>\n",
       "      <td>NaN</td>\n",
       "      <td>NaN</td>\n",
       "      <td>0.0</td>\n",
       "    </tr>\n",
       "    <tr>\n",
       "      <th>S3($)</th>\n",
       "      <td>527273.0818</td>\n",
       "      <td>192020.3415</td>\n",
       "      <td>169241.6837</td>\n",
       "      <td>166011.0566</td>\n",
       "    </tr>\n",
       "    <tr>\n",
       "      <th>CloudFront($)</th>\n",
       "      <td>23906.85779</td>\n",
       "      <td>8547.627189</td>\n",
       "      <td>8083.85436</td>\n",
       "      <td>7275.376242</td>\n",
       "    </tr>\n",
       "    <tr>\n",
       "      <th>Glacier($)</th>\n",
       "      <td>0.0</td>\n",
       "      <td>0.0</td>\n",
       "      <td>NaN</td>\n",
       "      <td>NaN</td>\n",
       "    </tr>\n",
       "    <tr>\n",
       "      <th>EC2-ELB($)</th>\n",
       "      <td>342327.7467</td>\n",
       "      <td>127500.3408</td>\n",
       "      <td>111625.0812</td>\n",
       "      <td>103202.3247</td>\n",
       "    </tr>\n",
       "    <tr>\n",
       "      <th>CloudTrail($)</th>\n",
       "      <td>193.67716</td>\n",
       "      <td>111.50586</td>\n",
       "      <td>82.1713</td>\n",
       "      <td>0.0</td>\n",
       "    </tr>\n",
       "    <tr>\n",
       "      <th>Kinesis($)</th>\n",
       "      <td>195.657816</td>\n",
       "      <td>68.820471</td>\n",
       "      <td>66.600454</td>\n",
       "      <td>60.236891</td>\n",
       "    </tr>\n",
       "    <tr>\n",
       "      <th>EMR($)</th>\n",
       "      <td>81614.729</td>\n",
       "      <td>26237.364</td>\n",
       "      <td>23823.059</td>\n",
       "      <td>31554.306</td>\n",
       "    </tr>\n",
       "    <tr>\n",
       "      <th>RDS($)</th>\n",
       "      <td>28292.68694</td>\n",
       "      <td>9799.866728</td>\n",
       "      <td>9438.244032</td>\n",
       "      <td>9054.576183</td>\n",
       "    </tr>\n",
       "    <tr>\n",
       "      <th>VPC($)</th>\n",
       "      <td>109.650015</td>\n",
       "      <td>74.250011</td>\n",
       "      <td>35.400004</td>\n",
       "      <td>NaN</td>\n",
       "    </tr>\n",
       "    <tr>\n",
       "      <th>WAF($)</th>\n",
       "      <td>14.999997</td>\n",
       "      <td>5.0</td>\n",
       "      <td>4.999997</td>\n",
       "      <td>5.0</td>\n",
       "    </tr>\n",
       "    <tr>\n",
       "      <th>Redshift($)</th>\n",
       "      <td>7273.35</td>\n",
       "      <td>2449.35</td>\n",
       "      <td>2372.95</td>\n",
       "      <td>2451.05</td>\n",
       "    </tr>\n",
       "    <tr>\n",
       "      <th>EC2 Container Registry (ECR)($)</th>\n",
       "      <td>96.036537</td>\n",
       "      <td>50.565163</td>\n",
       "      <td>30.22363</td>\n",
       "      <td>15.247744</td>\n",
       "    </tr>\n",
       "    <tr>\n",
       "      <th>EC2-Instances($)</th>\n",
       "      <td>2748018.804</td>\n",
       "      <td>854158.3435</td>\n",
       "      <td>884052.8967</td>\n",
       "      <td>1009807.564</td>\n",
       "    </tr>\n",
       "    <tr>\n",
       "      <th>SQS($)</th>\n",
       "      <td>110.568122</td>\n",
       "      <td>31.096825</td>\n",
       "      <td>30.754074</td>\n",
       "      <td>48.717223</td>\n",
       "    </tr>\n",
       "    <tr>\n",
       "      <th>Budgets($)</th>\n",
       "      <td>0</td>\n",
       "      <td>0</td>\n",
       "      <td>0</td>\n",
       "      <td>0</td>\n",
       "    </tr>\n",
       "    <tr>\n",
       "      <th>CloudSearch($)</th>\n",
       "      <td>12528.30303</td>\n",
       "      <td>4492.547501</td>\n",
       "      <td>3953.060088</td>\n",
       "      <td>4082.695439</td>\n",
       "    </tr>\n",
       "    <tr>\n",
       "      <th>Athena($)</th>\n",
       "      <td>0.12901</td>\n",
       "      <td>0.12431</td>\n",
       "      <td>0.0047</td>\n",
       "      <td>NaN</td>\n",
       "    </tr>\n",
       "    <tr>\n",
       "      <th>EC2-Other($)</th>\n",
       "      <td>671008.5002</td>\n",
       "      <td>245472.5549</td>\n",
       "      <td>213944.7836</td>\n",
       "      <td>211591.1617</td>\n",
       "    </tr>\n",
       "    <tr>\n",
       "      <th>Total cost ($)</th>\n",
       "      <td>4655484.685</td>\n",
       "      <td>1554168.747</td>\n",
       "      <td>1492007.023</td>\n",
       "      <td>1609308.915</td>\n",
       "    </tr>\n",
       "  </tbody>\n",
       "</table>\n",
       "</div>"
      ],
      "text/plain": [
       "                                             0            1            2  \\\n",
       "Service                          Service Total      January     February   \n",
       "API Gateway($)                        5.920412     0.486613     0.517401   \n",
       "Elastic File System($)                0.919388     0.919388          0.0   \n",
       "X-Ray($)                                   0.0          NaN          NaN   \n",
       "SES($)                                0.100271      0.03356     0.034722   \n",
       "SNS($)                               14.449259     6.732994     4.125028   \n",
       "ElastiCache($)                        6588.672     2220.096      2148.48   \n",
       "SimpleDB($)                           0.000027     0.000008     0.000012   \n",
       "Tax($)                                 3601.57      1284.13      1158.03   \n",
       "Config($)                             1231.663      338.221       415.72   \n",
       "Kinesis Firehose($)                  29.101089    10.820412     9.763655   \n",
       "WorkSpaces($)                              0.0          NaN          0.0   \n",
       "Route 53($)                        2773.201915  1020.425738  1065.593793   \n",
       "CloudWatch($)                      14490.36061  14428.61185    49.906899   \n",
       "Key Management Service($)           843.288562    302.00245   283.462042   \n",
       "DynamoDB($)                         843.043375   438.398867   227.749928   \n",
       "Lambda($)                             234.2066   157.224455    33.443694   \n",
       "Elasticsearch Service($)           16863.41042  7940.945035  4824.428884   \n",
       "Premium Support($)                      165000        55000        55000   \n",
       "Inspector($)                               0.0          NaN          NaN   \n",
       "S3($)                              527273.0818  192020.3415  169241.6837   \n",
       "CloudFront($)                      23906.85779  8547.627189   8083.85436   \n",
       "Glacier($)                                 0.0          0.0          NaN   \n",
       "EC2-ELB($)                         342327.7467  127500.3408  111625.0812   \n",
       "CloudTrail($)                        193.67716    111.50586      82.1713   \n",
       "Kinesis($)                          195.657816    68.820471    66.600454   \n",
       "EMR($)                               81614.729    26237.364    23823.059   \n",
       "RDS($)                             28292.68694  9799.866728  9438.244032   \n",
       "VPC($)                              109.650015    74.250011    35.400004   \n",
       "WAF($)                               14.999997          5.0     4.999997   \n",
       "Redshift($)                            7273.35      2449.35      2372.95   \n",
       "EC2 Container Registry (ECR)($)      96.036537    50.565163     30.22363   \n",
       "EC2-Instances($)                   2748018.804  854158.3435  884052.8967   \n",
       "SQS($)                              110.568122    31.096825    30.754074   \n",
       "Budgets($)                                   0            0            0   \n",
       "CloudSearch($)                     12528.30303  4492.547501  3953.060088   \n",
       "Athena($)                              0.12901      0.12431       0.0047   \n",
       "EC2-Other($)                       671008.5002  245472.5549  213944.7836   \n",
       "Total cost ($)                     4655484.685  1554168.747  1492007.023   \n",
       "\n",
       "                                           3  \n",
       "Service                                March  \n",
       "API Gateway($)                      4.916398  \n",
       "Elastic File System($)                   0.0  \n",
       "X-Ray($)                                 0.0  \n",
       "SES($)                              0.031989  \n",
       "SNS($)                              3.591236  \n",
       "ElastiCache($)                      2220.096  \n",
       "SimpleDB($)                         0.000007  \n",
       "Tax($)                               1159.41  \n",
       "Config($)                            477.722  \n",
       "Kinesis Firehose($)                 8.517022  \n",
       "WorkSpaces($)                            NaN  \n",
       "Route 53($)                       687.182383  \n",
       "CloudWatch($)                       11.84186  \n",
       "Key Management Service($)         257.824069  \n",
       "DynamoDB($)                        176.89458  \n",
       "Lambda($)                          43.538451  \n",
       "Elasticsearch Service($)         4098.036505  \n",
       "Premium Support($)                     55000  \n",
       "Inspector($)                             0.0  \n",
       "S3($)                            166011.0566  \n",
       "CloudFront($)                    7275.376242  \n",
       "Glacier($)                               NaN  \n",
       "EC2-ELB($)                       103202.3247  \n",
       "CloudTrail($)                            0.0  \n",
       "Kinesis($)                         60.236891  \n",
       "EMR($)                             31554.306  \n",
       "RDS($)                           9054.576183  \n",
       "VPC($)                                   NaN  \n",
       "WAF($)                                   5.0  \n",
       "Redshift($)                          2451.05  \n",
       "EC2 Container Registry (ECR)($)    15.247744  \n",
       "EC2-Instances($)                 1009807.564  \n",
       "SQS($)                             48.717223  \n",
       "Budgets($)                                 0  \n",
       "CloudSearch($)                   4082.695439  \n",
       "Athena($)                                NaN  \n",
       "EC2-Other($)                     211591.1617  \n",
       "Total cost ($)                   1609308.915  "
      ]
     },
     "execution_count": 14,
     "metadata": {},
     "output_type": "execute_result"
    }
   ],
   "source": [
    "df_service.T"
   ]
  },
  {
   "cell_type": "code",
   "execution_count": 29,
   "id": "ee963f6b",
   "metadata": {},
   "outputs": [],
   "source": [
    "x = df_usage.T\n",
    "x.columns = [\"total\",1,2, 3]"
   ]
  },
  {
   "cell_type": "code",
   "execution_count": 52,
   "id": "299d9bf4",
   "metadata": {},
   "outputs": [
    {
     "ename": "SyntaxError",
     "evalue": "invalid syntax (1779448325.py, line 2)",
     "output_type": "error",
     "traceback": [
      "\u001b[0;36m  Cell \u001b[0;32mIn[52], line 2\u001b[0;36m\u001b[0m\n\u001b[0;31m    x[\"total\"] = [float(t) for t in x['total'] if t in ('UsageType Total', '') else 0]\u001b[0m\n\u001b[0m                                                                               ^\u001b[0m\n\u001b[0;31mSyntaxError\u001b[0m\u001b[0;31m:\u001b[0m invalid syntax\n"
     ]
    }
   ],
   "source": [
    "# x.sort_values(by=\"total\", axis=1)\n",
    "x[\"total\"] = [float(t) for t in x['total'] if t in ('UsageType Total', '') else 0]"
   ]
  },
  {
   "cell_type": "code",
   "execution_count": 55,
   "id": "3b460d44",
   "metadata": {},
   "outputs": [],
   "source": [
    "y = x[x.index != 'UsageType']"
   ]
  },
  {
   "cell_type": "code",
   "execution_count": 56,
   "id": "14eff7e4",
   "metadata": {},
   "outputs": [
    {
     "name": "stderr",
     "output_type": "stream",
     "text": [
      "/var/folders/zr/sdmlb9r15gv4f1vy8vq4721c0000gn/T/ipykernel_43892/3899652741.py:1: SettingWithCopyWarning: \n",
      "A value is trying to be set on a copy of a slice from a DataFrame.\n",
      "Try using .loc[row_indexer,col_indexer] = value instead\n",
      "\n",
      "See the caveats in the documentation: https://pandas.pydata.org/pandas-docs/stable/user_guide/indexing.html#returning-a-view-versus-a-copy\n",
      "  y['total'] = [float(t) for t in y['total']]\n"
     ]
    }
   ],
   "source": [
    "y['total'] = [float(t) for t in y['total']]"
   ]
  },
  {
   "cell_type": "code",
   "execution_count": 64,
   "id": "880db798",
   "metadata": {},
   "outputs": [
    {
     "data": {
      "text/plain": [
       "710"
      ]
     },
     "execution_count": 64,
     "metadata": {},
     "output_type": "execute_result"
    }
   ],
   "source": [
    "len(x)"
   ]
  },
  {
   "cell_type": "code",
   "execution_count": 62,
   "id": "564fb808",
   "metadata": {},
   "outputs": [
    {
     "data": {
      "text/html": [
       "<div>\n",
       "<style scoped>\n",
       "    .dataframe tbody tr th:only-of-type {\n",
       "        vertical-align: middle;\n",
       "    }\n",
       "\n",
       "    .dataframe tbody tr th {\n",
       "        vertical-align: top;\n",
       "    }\n",
       "\n",
       "    .dataframe thead th {\n",
       "        text-align: right;\n",
       "    }\n",
       "</style>\n",
       "<table border=\"1\" class=\"dataframe\">\n",
       "  <thead>\n",
       "    <tr style=\"text-align: right;\">\n",
       "      <th></th>\n",
       "      <th>total</th>\n",
       "      <th>1</th>\n",
       "      <th>2</th>\n",
       "      <th>3</th>\n",
       "    </tr>\n",
       "  </thead>\n",
       "  <tbody>\n",
       "    <tr>\n",
       "      <th>BoxUsage:c3.4xlarge($)</th>\n",
       "      <td>3.998432e+04</td>\n",
       "      <td>13710.92718</td>\n",
       "      <td>11523.415</td>\n",
       "      <td>14749.97763</td>\n",
       "    </tr>\n",
       "    <tr>\n",
       "      <th>BoxUsage:m3.2xlarge($)</th>\n",
       "      <td>4.303840e+04</td>\n",
       "      <td>18460.0815</td>\n",
       "      <td>13625.0765</td>\n",
       "      <td>10953.24252</td>\n",
       "    </tr>\n",
       "    <tr>\n",
       "      <th>BoxUsage:m3.xlarge($)</th>\n",
       "      <td>4.437374e+04</td>\n",
       "      <td>22226.34888</td>\n",
       "      <td>13151.1375</td>\n",
       "      <td>8996.253715</td>\n",
       "    </tr>\n",
       "    <tr>\n",
       "      <th>HeavyUsage:r3.2xlarge($)</th>\n",
       "      <td>4.892669e+04</td>\n",
       "      <td>15832.692</td>\n",
       "      <td>16176.95961</td>\n",
       "      <td>16917.03785</td>\n",
       "    </tr>\n",
       "    <tr>\n",
       "      <th>HeavyUsage:i2.xlarge($)</th>\n",
       "      <td>4.976593e+04</td>\n",
       "      <td>13469.67317</td>\n",
       "      <td>17407.4564</td>\n",
       "      <td>18888.8004</td>\n",
       "    </tr>\n",
       "    <tr>\n",
       "      <th>BoxUsage:r3.8xlarge($)</th>\n",
       "      <td>5.962610e+04</td>\n",
       "      <td>19312.805</td>\n",
       "      <td>13281.82375</td>\n",
       "      <td>27031.47391</td>\n",
       "    </tr>\n",
       "    <tr>\n",
       "      <th>HeavyUsage:i2.2xlarge($)</th>\n",
       "      <td>7.055285e+04</td>\n",
       "      <td>21858.40033</td>\n",
       "      <td>23585.59134</td>\n",
       "      <td>25108.85945</td>\n",
       "    </tr>\n",
       "    <tr>\n",
       "      <th>BoxUsage:c3.2xlarge($)</th>\n",
       "      <td>8.022687e+04</td>\n",
       "      <td>5067.138</td>\n",
       "      <td>13273.845</td>\n",
       "      <td>61885.89128</td>\n",
       "    </tr>\n",
       "    <tr>\n",
       "      <th>BoxUsage:i3.2xlarge($)</th>\n",
       "      <td>8.056417e+04</td>\n",
       "      <td>42686.98009</td>\n",
       "      <td>35567.376</td>\n",
       "      <td>2309.812272</td>\n",
       "    </tr>\n",
       "    <tr>\n",
       "      <th>BoxUsage:c3.8xlarge($)</th>\n",
       "      <td>9.042294e+04</td>\n",
       "      <td>21337.50933</td>\n",
       "      <td>22346.37</td>\n",
       "      <td>46739.06476</td>\n",
       "    </tr>\n",
       "    <tr>\n",
       "      <th>HeavyUsage:c3.xlarge($)</th>\n",
       "      <td>9.193147e+04</td>\n",
       "      <td>26856.78424</td>\n",
       "      <td>31547.76999</td>\n",
       "      <td>33526.91392</td>\n",
       "    </tr>\n",
       "    <tr>\n",
       "      <th>Requests-Tier1($)</th>\n",
       "      <td>9.247209e+04</td>\n",
       "      <td>33859.24654</td>\n",
       "      <td>29958.81024</td>\n",
       "      <td>28654.03698</td>\n",
       "    </tr>\n",
       "    <tr>\n",
       "      <th>SpotUsage:r3.8xlarge($)</th>\n",
       "      <td>9.471923e+04</td>\n",
       "      <td>17886.03939</td>\n",
       "      <td>14356.2945</td>\n",
       "      <td>62476.8995</td>\n",
       "    </tr>\n",
       "    <tr>\n",
       "      <th>HeavyUsage:d2.2xlarge($)</th>\n",
       "      <td>9.981113e+04</td>\n",
       "      <td>32478.2784</td>\n",
       "      <td>32803.15136</td>\n",
       "      <td>34529.69593</td>\n",
       "    </tr>\n",
       "    <tr>\n",
       "      <th>BoxUsage:d2.2xlarge($)</th>\n",
       "      <td>1.013543e+05</td>\n",
       "      <td>42005.82</td>\n",
       "      <td>47238.09</td>\n",
       "      <td>12110.34926</td>\n",
       "    </tr>\n",
       "    <tr>\n",
       "      <th>SpotUsage:d2.8xlarge($)</th>\n",
       "      <td>1.033289e+05</td>\n",
       "      <td>30815.53695</td>\n",
       "      <td>53380.19</td>\n",
       "      <td>19133.16959</td>\n",
       "    </tr>\n",
       "    <tr>\n",
       "      <th>DataTransfer-Out-Bytes($)</th>\n",
       "      <td>1.034420e+05</td>\n",
       "      <td>36776.14025</td>\n",
       "      <td>33646.81569</td>\n",
       "      <td>33019.04112</td>\n",
       "    </tr>\n",
       "    <tr>\n",
       "      <th>DataProcessing-Bytes($)</th>\n",
       "      <td>1.225843e+05</td>\n",
       "      <td>43540.73628</td>\n",
       "      <td>41511.10451</td>\n",
       "      <td>37532.44529</td>\n",
       "    </tr>\n",
       "    <tr>\n",
       "      <th>BoxUsage:i2.xlarge($)</th>\n",
       "      <td>1.313012e+05</td>\n",
       "      <td>42344.65491</td>\n",
       "      <td>40723.926</td>\n",
       "      <td>48232.58311</td>\n",
       "    </tr>\n",
       "    <tr>\n",
       "      <th>HeavyUsage:c3.2xlarge($)</th>\n",
       "      <td>1.346008e+05</td>\n",
       "      <td>38487.83145</td>\n",
       "      <td>46157.31347</td>\n",
       "      <td>49955.63348</td>\n",
       "    </tr>\n",
       "    <tr>\n",
       "      <th>HeavyUsage:c3.8xlarge($)</th>\n",
       "      <td>1.472396e+05</td>\n",
       "      <td>81745.72451</td>\n",
       "      <td>51188.24251</td>\n",
       "      <td>14305.58988</td>\n",
       "    </tr>\n",
       "    <tr>\n",
       "      <th>BoxUsage:i2.8xlarge($)</th>\n",
       "      <td>1.527406e+05</td>\n",
       "      <td>24764.2725</td>\n",
       "      <td>53871.37</td>\n",
       "      <td>74104.95305</td>\n",
       "    </tr>\n",
       "    <tr>\n",
       "      <th>Dollar($)</th>\n",
       "      <td>1.650000e+05</td>\n",
       "      <td>55000</td>\n",
       "      <td>55000</td>\n",
       "      <td>55000</td>\n",
       "    </tr>\n",
       "    <tr>\n",
       "      <th>HeavyUsage:i2.4xlarge($)</th>\n",
       "      <td>1.667697e+05</td>\n",
       "      <td>51199.71011</td>\n",
       "      <td>56158.27003</td>\n",
       "      <td>59411.71289</td>\n",
       "    </tr>\n",
       "    <tr>\n",
       "      <th>BoxUsage:i2.2xlarge($)</th>\n",
       "      <td>1.679202e+05</td>\n",
       "      <td>53357.3252</td>\n",
       "      <td>50837.985</td>\n",
       "      <td>63724.8751</td>\n",
       "    </tr>\n",
       "    <tr>\n",
       "      <th>BoxUsage:c3.xlarge($)</th>\n",
       "      <td>1.689041e+05</td>\n",
       "      <td>35572.19202</td>\n",
       "      <td>38983.614</td>\n",
       "      <td>94348.27023</td>\n",
       "    </tr>\n",
       "    <tr>\n",
       "      <th>BoxUsage:i2.4xlarge($)</th>\n",
       "      <td>2.231059e+05</td>\n",
       "      <td>34331.88</td>\n",
       "      <td>78591.1225</td>\n",
       "      <td>110182.9053</td>\n",
       "    </tr>\n",
       "    <tr>\n",
       "      <th>TimedStorage-ByteHrs($)</th>\n",
       "      <td>4.225078e+05</td>\n",
       "      <td>153722.2112</td>\n",
       "      <td>135127.8633</td>\n",
       "      <td>133657.7512</td>\n",
       "    </tr>\n",
       "    <tr>\n",
       "      <th>DataTransfer-Regional-Bytes($)</th>\n",
       "      <td>7.088501e+05</td>\n",
       "      <td>263047.387</td>\n",
       "      <td>224787.3902</td>\n",
       "      <td>221015.3672</td>\n",
       "    </tr>\n",
       "    <tr>\n",
       "      <th>Total cost ($)</th>\n",
       "      <td>4.655485e+06</td>\n",
       "      <td>1554168.747</td>\n",
       "      <td>1492007.023</td>\n",
       "      <td>1609308.915</td>\n",
       "    </tr>\n",
       "  </tbody>\n",
       "</table>\n",
       "</div>"
      ],
      "text/plain": [
       "                                       total            1            2  \\\n",
       "BoxUsage:c3.4xlarge($)          3.998432e+04  13710.92718    11523.415   \n",
       "BoxUsage:m3.2xlarge($)          4.303840e+04   18460.0815   13625.0765   \n",
       "BoxUsage:m3.xlarge($)           4.437374e+04  22226.34888   13151.1375   \n",
       "HeavyUsage:r3.2xlarge($)        4.892669e+04    15832.692  16176.95961   \n",
       "HeavyUsage:i2.xlarge($)         4.976593e+04  13469.67317   17407.4564   \n",
       "BoxUsage:r3.8xlarge($)          5.962610e+04    19312.805  13281.82375   \n",
       "HeavyUsage:i2.2xlarge($)        7.055285e+04  21858.40033  23585.59134   \n",
       "BoxUsage:c3.2xlarge($)          8.022687e+04     5067.138    13273.845   \n",
       "BoxUsage:i3.2xlarge($)          8.056417e+04  42686.98009    35567.376   \n",
       "BoxUsage:c3.8xlarge($)          9.042294e+04  21337.50933     22346.37   \n",
       "HeavyUsage:c3.xlarge($)         9.193147e+04  26856.78424  31547.76999   \n",
       "Requests-Tier1($)               9.247209e+04  33859.24654  29958.81024   \n",
       "SpotUsage:r3.8xlarge($)         9.471923e+04  17886.03939   14356.2945   \n",
       "HeavyUsage:d2.2xlarge($)        9.981113e+04   32478.2784  32803.15136   \n",
       "BoxUsage:d2.2xlarge($)          1.013543e+05     42005.82     47238.09   \n",
       "SpotUsage:d2.8xlarge($)         1.033289e+05  30815.53695     53380.19   \n",
       "DataTransfer-Out-Bytes($)       1.034420e+05  36776.14025  33646.81569   \n",
       "DataProcessing-Bytes($)         1.225843e+05  43540.73628  41511.10451   \n",
       "BoxUsage:i2.xlarge($)           1.313012e+05  42344.65491    40723.926   \n",
       "HeavyUsage:c3.2xlarge($)        1.346008e+05  38487.83145  46157.31347   \n",
       "HeavyUsage:c3.8xlarge($)        1.472396e+05  81745.72451  51188.24251   \n",
       "BoxUsage:i2.8xlarge($)          1.527406e+05   24764.2725     53871.37   \n",
       "Dollar($)                       1.650000e+05        55000        55000   \n",
       "HeavyUsage:i2.4xlarge($)        1.667697e+05  51199.71011  56158.27003   \n",
       "BoxUsage:i2.2xlarge($)          1.679202e+05   53357.3252    50837.985   \n",
       "BoxUsage:c3.xlarge($)           1.689041e+05  35572.19202    38983.614   \n",
       "BoxUsage:i2.4xlarge($)          2.231059e+05     34331.88   78591.1225   \n",
       "TimedStorage-ByteHrs($)         4.225078e+05  153722.2112  135127.8633   \n",
       "DataTransfer-Regional-Bytes($)  7.088501e+05   263047.387  224787.3902   \n",
       "Total cost ($)                  4.655485e+06  1554168.747  1492007.023   \n",
       "\n",
       "                                          3  \n",
       "BoxUsage:c3.4xlarge($)          14749.97763  \n",
       "BoxUsage:m3.2xlarge($)          10953.24252  \n",
       "BoxUsage:m3.xlarge($)           8996.253715  \n",
       "HeavyUsage:r3.2xlarge($)        16917.03785  \n",
       "HeavyUsage:i2.xlarge($)          18888.8004  \n",
       "BoxUsage:r3.8xlarge($)          27031.47391  \n",
       "HeavyUsage:i2.2xlarge($)        25108.85945  \n",
       "BoxUsage:c3.2xlarge($)          61885.89128  \n",
       "BoxUsage:i3.2xlarge($)          2309.812272  \n",
       "BoxUsage:c3.8xlarge($)          46739.06476  \n",
       "HeavyUsage:c3.xlarge($)         33526.91392  \n",
       "Requests-Tier1($)               28654.03698  \n",
       "SpotUsage:r3.8xlarge($)          62476.8995  \n",
       "HeavyUsage:d2.2xlarge($)        34529.69593  \n",
       "BoxUsage:d2.2xlarge($)          12110.34926  \n",
       "SpotUsage:d2.8xlarge($)         19133.16959  \n",
       "DataTransfer-Out-Bytes($)       33019.04112  \n",
       "DataProcessing-Bytes($)         37532.44529  \n",
       "BoxUsage:i2.xlarge($)           48232.58311  \n",
       "HeavyUsage:c3.2xlarge($)        49955.63348  \n",
       "HeavyUsage:c3.8xlarge($)        14305.58988  \n",
       "BoxUsage:i2.8xlarge($)          74104.95305  \n",
       "Dollar($)                             55000  \n",
       "HeavyUsage:i2.4xlarge($)        59411.71289  \n",
       "BoxUsage:i2.2xlarge($)           63724.8751  \n",
       "BoxUsage:c3.xlarge($)           94348.27023  \n",
       "BoxUsage:i2.4xlarge($)          110182.9053  \n",
       "TimedStorage-ByteHrs($)         133657.7512  \n",
       "DataTransfer-Regional-Bytes($)  221015.3672  \n",
       "Total cost ($)                  1609308.915  "
      ]
     },
     "execution_count": 62,
     "metadata": {},
     "output_type": "execute_result"
    }
   ],
   "source": [
    "z = y.sort_values('total').tail(30)\n",
    "z"
   ]
  },
  {
   "cell_type": "code",
   "execution_count": 63,
   "id": "f6e2a3cd",
   "metadata": {},
   "outputs": [
    {
     "data": {
      "text/plain": [
       "Index(['BoxUsage:c3.4xlarge($)', 'BoxUsage:m3.2xlarge($)',\n",
       "       'BoxUsage:m3.xlarge($)', 'HeavyUsage:r3.2xlarge($)',\n",
       "       'HeavyUsage:i2.xlarge($)', 'BoxUsage:r3.8xlarge($)',\n",
       "       'HeavyUsage:i2.2xlarge($)', 'BoxUsage:c3.2xlarge($)',\n",
       "       'BoxUsage:i3.2xlarge($)', 'BoxUsage:c3.8xlarge($)',\n",
       "       'HeavyUsage:c3.xlarge($)', 'Requests-Tier1($)',\n",
       "       'SpotUsage:r3.8xlarge($)', 'HeavyUsage:d2.2xlarge($)',\n",
       "       'BoxUsage:d2.2xlarge($)', 'SpotUsage:d2.8xlarge($)',\n",
       "       'DataTransfer-Out-Bytes($)', 'DataProcessing-Bytes($)',\n",
       "       'BoxUsage:i2.xlarge($)', 'HeavyUsage:c3.2xlarge($)',\n",
       "       'HeavyUsage:c3.8xlarge($)', 'BoxUsage:i2.8xlarge($)', 'Dollar($)',\n",
       "       'HeavyUsage:i2.4xlarge($)', 'BoxUsage:i2.2xlarge($)',\n",
       "       'BoxUsage:c3.xlarge($)', 'BoxUsage:i2.4xlarge($)',\n",
       "       'TimedStorage-ByteHrs($)', 'DataTransfer-Regional-Bytes($)',\n",
       "       'Total cost ($)'],\n",
       "      dtype='object')"
      ]
     },
     "execution_count": 63,
     "metadata": {},
     "output_type": "execute_result"
    }
   ],
   "source": [
    "z.index"
   ]
  },
  {
   "cell_type": "code",
   "execution_count": 88,
   "id": "4596f532",
   "metadata": {},
   "outputs": [
    {
     "data": {
      "text/html": [
       "<div>\n",
       "<style scoped>\n",
       "    .dataframe tbody tr th:only-of-type {\n",
       "        vertical-align: middle;\n",
       "    }\n",
       "\n",
       "    .dataframe tbody tr th {\n",
       "        vertical-align: top;\n",
       "    }\n",
       "\n",
       "    .dataframe thead th {\n",
       "        text-align: right;\n",
       "    }\n",
       "</style>\n",
       "<table border=\"1\" class=\"dataframe\">\n",
       "  <thead>\n",
       "    <tr style=\"text-align: right;\">\n",
       "      <th></th>\n",
       "      <th>total</th>\n",
       "    </tr>\n",
       "  </thead>\n",
       "  <tbody>\n",
       "    <tr>\n",
       "      <th>Total cost ($)</th>\n",
       "      <td>4655484.685</td>\n",
       "    </tr>\n",
       "    <tr>\n",
       "      <th>DataTransfer-Regional-Bytes($)</th>\n",
       "      <td>708850.1443</td>\n",
       "    </tr>\n",
       "    <tr>\n",
       "      <th>TimedStorage-ByteHrs($)</th>\n",
       "      <td>422507.8257</td>\n",
       "    </tr>\n",
       "    <tr>\n",
       "      <th>BoxUsage:i2.4xlarge($)</th>\n",
       "      <td>223105.9078</td>\n",
       "    </tr>\n",
       "    <tr>\n",
       "      <th>BoxUsage:c3.xlarge($)</th>\n",
       "      <td>168904.0762</td>\n",
       "    </tr>\n",
       "    <tr>\n",
       "      <th>BoxUsage:i2.2xlarge($)</th>\n",
       "      <td>167920.1853</td>\n",
       "    </tr>\n",
       "    <tr>\n",
       "      <th>HeavyUsage:i2.4xlarge($)</th>\n",
       "      <td>166769.693</td>\n",
       "    </tr>\n",
       "    <tr>\n",
       "      <th>Dollar($)</th>\n",
       "      <td>165000</td>\n",
       "    </tr>\n",
       "    <tr>\n",
       "      <th>BoxUsage:i2.8xlarge($)</th>\n",
       "      <td>152740.5956</td>\n",
       "    </tr>\n",
       "    <tr>\n",
       "      <th>HeavyUsage:c3.8xlarge($)</th>\n",
       "      <td>147239.5569</td>\n",
       "    </tr>\n",
       "    <tr>\n",
       "      <th>HeavyUsage:c3.2xlarge($)</th>\n",
       "      <td>134600.7784</td>\n",
       "    </tr>\n",
       "    <tr>\n",
       "      <th>BoxUsage:i2.xlarge($)</th>\n",
       "      <td>131301.164</td>\n",
       "    </tr>\n",
       "    <tr>\n",
       "      <th>DataProcessing-Bytes($)</th>\n",
       "      <td>122584.2861</td>\n",
       "    </tr>\n",
       "    <tr>\n",
       "      <th>DataTransfer-Out-Bytes($)</th>\n",
       "      <td>103441.9971</td>\n",
       "    </tr>\n",
       "    <tr>\n",
       "      <th>SpotUsage:d2.8xlarge($)</th>\n",
       "      <td>103328.8965</td>\n",
       "    </tr>\n",
       "    <tr>\n",
       "      <th>BoxUsage:d2.2xlarge($)</th>\n",
       "      <td>101354.2593</td>\n",
       "    </tr>\n",
       "    <tr>\n",
       "      <th>HeavyUsage:d2.2xlarge($)</th>\n",
       "      <td>99811.12569</td>\n",
       "    </tr>\n",
       "    <tr>\n",
       "      <th>SpotUsage:r3.8xlarge($)</th>\n",
       "      <td>94719.23339</td>\n",
       "    </tr>\n",
       "    <tr>\n",
       "      <th>Requests-Tier1($)</th>\n",
       "      <td>92472.09377</td>\n",
       "    </tr>\n",
       "    <tr>\n",
       "      <th>HeavyUsage:c3.xlarge($)</th>\n",
       "      <td>91931.46815</td>\n",
       "    </tr>\n",
       "    <tr>\n",
       "      <th>BoxUsage:c3.8xlarge($)</th>\n",
       "      <td>90422.9441</td>\n",
       "    </tr>\n",
       "    <tr>\n",
       "      <th>BoxUsage:i3.2xlarge($)</th>\n",
       "      <td>80564.16837</td>\n",
       "    </tr>\n",
       "    <tr>\n",
       "      <th>BoxUsage:c3.2xlarge($)</th>\n",
       "      <td>80226.87428</td>\n",
       "    </tr>\n",
       "    <tr>\n",
       "      <th>HeavyUsage:i2.2xlarge($)</th>\n",
       "      <td>70552.85113</td>\n",
       "    </tr>\n",
       "    <tr>\n",
       "      <th>BoxUsage:r3.8xlarge($)</th>\n",
       "      <td>59626.10266</td>\n",
       "    </tr>\n",
       "    <tr>\n",
       "      <th>HeavyUsage:i2.xlarge($)</th>\n",
       "      <td>49765.92997</td>\n",
       "    </tr>\n",
       "    <tr>\n",
       "      <th>HeavyUsage:r3.2xlarge($)</th>\n",
       "      <td>48926.68946</td>\n",
       "    </tr>\n",
       "    <tr>\n",
       "      <th>BoxUsage:m3.xlarge($)</th>\n",
       "      <td>44373.74009</td>\n",
       "    </tr>\n",
       "    <tr>\n",
       "      <th>BoxUsage:m3.2xlarge($)</th>\n",
       "      <td>43038.40052</td>\n",
       "    </tr>\n",
       "    <tr>\n",
       "      <th>BoxUsage:c3.4xlarge($)</th>\n",
       "      <td>39984.31981</td>\n",
       "    </tr>\n",
       "    <tr>\n",
       "      <th>HeavyUsage:r3.8xlarge($)</th>\n",
       "      <td>39152.57762</td>\n",
       "    </tr>\n",
       "    <tr>\n",
       "      <th>HeavyUsage:r3.xlarge($)</th>\n",
       "      <td>31136.35827</td>\n",
       "    </tr>\n",
       "    <tr>\n",
       "      <th>BoxUsage:m3.large($)</th>\n",
       "      <td>29815.01697</td>\n",
       "    </tr>\n",
       "    <tr>\n",
       "      <th>BoxUsage:d2.8xlarge($)</th>\n",
       "      <td>28087.41</td>\n",
       "    </tr>\n",
       "    <tr>\n",
       "      <th>CW:Requests($)</th>\n",
       "      <td>27567.87215</td>\n",
       "    </tr>\n",
       "    <tr>\n",
       "      <th>HeavyUsage:m3.xlarge($)</th>\n",
       "      <td>27525.09346</td>\n",
       "    </tr>\n",
       "    <tr>\n",
       "      <th>HeavyUsage:m3.large($)</th>\n",
       "      <td>27102.77778</td>\n",
       "    </tr>\n",
       "    <tr>\n",
       "      <th>BoxUsage:d2.xlarge($)</th>\n",
       "      <td>22560.30179</td>\n",
       "    </tr>\n",
       "    <tr>\n",
       "      <th>HeavyUsage:i2.8xlarge($)</th>\n",
       "      <td>21498.75325</td>\n",
       "    </tr>\n",
       "    <tr>\n",
       "      <th>BoxUsage:i3.4xlarge($)</th>\n",
       "      <td>21459.048</td>\n",
       "    </tr>\n",
       "  </tbody>\n",
       "</table>\n",
       "</div>"
      ],
      "text/plain": [
       "                                      total\n",
       "Total cost ($)                  4655484.685\n",
       "DataTransfer-Regional-Bytes($)  708850.1443\n",
       "TimedStorage-ByteHrs($)         422507.8257\n",
       "BoxUsage:i2.4xlarge($)          223105.9078\n",
       "BoxUsage:c3.xlarge($)           168904.0762\n",
       "BoxUsage:i2.2xlarge($)          167920.1853\n",
       "HeavyUsage:i2.4xlarge($)         166769.693\n",
       "Dollar($)                            165000\n",
       "BoxUsage:i2.8xlarge($)          152740.5956\n",
       "HeavyUsage:c3.8xlarge($)        147239.5569\n",
       "HeavyUsage:c3.2xlarge($)        134600.7784\n",
       "BoxUsage:i2.xlarge($)            131301.164\n",
       "DataProcessing-Bytes($)         122584.2861\n",
       "DataTransfer-Out-Bytes($)       103441.9971\n",
       "SpotUsage:d2.8xlarge($)         103328.8965\n",
       "BoxUsage:d2.2xlarge($)          101354.2593\n",
       "HeavyUsage:d2.2xlarge($)        99811.12569\n",
       "SpotUsage:r3.8xlarge($)         94719.23339\n",
       "Requests-Tier1($)               92472.09377\n",
       "HeavyUsage:c3.xlarge($)         91931.46815\n",
       "BoxUsage:c3.8xlarge($)           90422.9441\n",
       "BoxUsage:i3.2xlarge($)          80564.16837\n",
       "BoxUsage:c3.2xlarge($)          80226.87428\n",
       "HeavyUsage:i2.2xlarge($)        70552.85113\n",
       "BoxUsage:r3.8xlarge($)          59626.10266\n",
       "HeavyUsage:i2.xlarge($)         49765.92997\n",
       "HeavyUsage:r3.2xlarge($)        48926.68946\n",
       "BoxUsage:m3.xlarge($)           44373.74009\n",
       "BoxUsage:m3.2xlarge($)          43038.40052\n",
       "BoxUsage:c3.4xlarge($)          39984.31981\n",
       "HeavyUsage:r3.8xlarge($)        39152.57762\n",
       "HeavyUsage:r3.xlarge($)         31136.35827\n",
       "BoxUsage:m3.large($)            29815.01697\n",
       "BoxUsage:d2.8xlarge($)             28087.41\n",
       "CW:Requests($)                  27567.87215\n",
       "HeavyUsage:m3.xlarge($)         27525.09346\n",
       "HeavyUsage:m3.large($)          27102.77778\n",
       "BoxUsage:d2.xlarge($)           22560.30179\n",
       "HeavyUsage:i2.8xlarge($)        21498.75325\n",
       "BoxUsage:i3.4xlarge($)            21459.048"
      ]
     },
     "execution_count": 88,
     "metadata": {},
     "output_type": "execute_result"
    }
   ],
   "source": [
    "a = df_usage.T\n",
    "a.columns = ['total', '1', '2', '3']\n",
    "a = a[a.index != \"UsageType\"].sort_values('total', ascending=False)\n",
    "a.head(40)[['total']]"
   ]
  },
  {
   "cell_type": "code",
   "execution_count": 83,
   "id": "4ff088b8",
   "metadata": {},
   "outputs": [
    {
     "data": {
      "text/html": [
       "<div>\n",
       "<style scoped>\n",
       "    .dataframe tbody tr th:only-of-type {\n",
       "        vertical-align: middle;\n",
       "    }\n",
       "\n",
       "    .dataframe tbody tr th {\n",
       "        vertical-align: top;\n",
       "    }\n",
       "\n",
       "    .dataframe thead th {\n",
       "        text-align: right;\n",
       "    }\n",
       "</style>\n",
       "<table border=\"1\" class=\"dataframe\">\n",
       "  <thead>\n",
       "    <tr style=\"text-align: right;\">\n",
       "      <th></th>\n",
       "      <th>0</th>\n",
       "      <th>1</th>\n",
       "      <th>2</th>\n",
       "      <th>3</th>\n",
       "    </tr>\n",
       "  </thead>\n",
       "  <tbody>\n",
       "    <tr>\n",
       "      <th>APS3-DataTransfer-In-Bytes($)</th>\n",
       "      <td>0</td>\n",
       "      <td>0</td>\n",
       "      <td>0</td>\n",
       "      <td>0</td>\n",
       "    </tr>\n",
       "    <tr>\n",
       "      <th>USE1-USE2-AWS-In-Bytes($)</th>\n",
       "      <td>0</td>\n",
       "      <td>0</td>\n",
       "      <td>0</td>\n",
       "      <td>0</td>\n",
       "    </tr>\n",
       "    <tr>\n",
       "      <th>agent-assessments-free($)</th>\n",
       "      <td>0.0</td>\n",
       "      <td>NaN</td>\n",
       "      <td>NaN</td>\n",
       "      <td>0.0</td>\n",
       "    </tr>\n",
       "    <tr>\n",
       "      <th>EU-CAN1-AWS-In-Bytes($)</th>\n",
       "      <td>0.0</td>\n",
       "      <td>0.0</td>\n",
       "      <td>NaN</td>\n",
       "      <td>NaN</td>\n",
       "    </tr>\n",
       "    <tr>\n",
       "      <th>USW2-APS3-AWS-In-Bytes($)</th>\n",
       "      <td>0</td>\n",
       "      <td>0</td>\n",
       "      <td>0</td>\n",
       "      <td>0</td>\n",
       "    </tr>\n",
       "    <tr>\n",
       "      <th>...</th>\n",
       "      <td>...</td>\n",
       "      <td>...</td>\n",
       "      <td>...</td>\n",
       "      <td>...</td>\n",
       "    </tr>\n",
       "    <tr>\n",
       "      <th>BoxUsage:c3.xlarge($)</th>\n",
       "      <td>168904.0762</td>\n",
       "      <td>35572.19202</td>\n",
       "      <td>38983.614</td>\n",
       "      <td>94348.27023</td>\n",
       "    </tr>\n",
       "    <tr>\n",
       "      <th>BoxUsage:i2.4xlarge($)</th>\n",
       "      <td>223105.9078</td>\n",
       "      <td>34331.88</td>\n",
       "      <td>78591.1225</td>\n",
       "      <td>110182.9053</td>\n",
       "    </tr>\n",
       "    <tr>\n",
       "      <th>TimedStorage-ByteHrs($)</th>\n",
       "      <td>422507.8257</td>\n",
       "      <td>153722.2112</td>\n",
       "      <td>135127.8633</td>\n",
       "      <td>133657.7512</td>\n",
       "    </tr>\n",
       "    <tr>\n",
       "      <th>DataTransfer-Regional-Bytes($)</th>\n",
       "      <td>708850.1443</td>\n",
       "      <td>263047.387</td>\n",
       "      <td>224787.3902</td>\n",
       "      <td>221015.3672</td>\n",
       "    </tr>\n",
       "    <tr>\n",
       "      <th>Total cost ($)</th>\n",
       "      <td>4655484.685</td>\n",
       "      <td>1554168.747</td>\n",
       "      <td>1492007.023</td>\n",
       "      <td>1609308.915</td>\n",
       "    </tr>\n",
       "  </tbody>\n",
       "</table>\n",
       "<p>709 rows × 4 columns</p>\n",
       "</div>"
      ],
      "text/plain": [
       "                                          0            1            2  \\\n",
       "APS3-DataTransfer-In-Bytes($)             0            0            0   \n",
       "USE1-USE2-AWS-In-Bytes($)                 0            0            0   \n",
       "agent-assessments-free($)               0.0          NaN          NaN   \n",
       "EU-CAN1-AWS-In-Bytes($)                 0.0          0.0          NaN   \n",
       "USW2-APS3-AWS-In-Bytes($)                 0            0            0   \n",
       "...                                     ...          ...          ...   \n",
       "BoxUsage:c3.xlarge($)           168904.0762  35572.19202    38983.614   \n",
       "BoxUsage:i2.4xlarge($)          223105.9078     34331.88   78591.1225   \n",
       "TimedStorage-ByteHrs($)         422507.8257  153722.2112  135127.8633   \n",
       "DataTransfer-Regional-Bytes($)  708850.1443   263047.387  224787.3902   \n",
       "Total cost ($)                  4655484.685  1554168.747  1492007.023   \n",
       "\n",
       "                                          3  \n",
       "APS3-DataTransfer-In-Bytes($)             0  \n",
       "USE1-USE2-AWS-In-Bytes($)                 0  \n",
       "agent-assessments-free($)               0.0  \n",
       "EU-CAN1-AWS-In-Bytes($)                 NaN  \n",
       "USW2-APS3-AWS-In-Bytes($)                 0  \n",
       "...                                     ...  \n",
       "BoxUsage:c3.xlarge($)           94348.27023  \n",
       "BoxUsage:i2.4xlarge($)          110182.9053  \n",
       "TimedStorage-ByteHrs($)         133657.7512  \n",
       "DataTransfer-Regional-Bytes($)  221015.3672  \n",
       "Total cost ($)                  1609308.915  \n",
       "\n",
       "[709 rows x 4 columns]"
      ]
     },
     "execution_count": 83,
     "metadata": {},
     "output_type": "execute_result"
    }
   ],
   "source": [
    "a"
   ]
  },
  {
   "cell_type": "code",
   "execution_count": null,
   "id": "49b7a97c",
   "metadata": {},
   "outputs": [],
   "source": []
  },
  {
   "cell_type": "code",
   "execution_count": null,
   "id": "c7792c8f",
   "metadata": {},
   "outputs": [],
   "source": []
  },
  {
   "cell_type": "code",
   "execution_count": 81,
   "id": "91331b0b",
   "metadata": {},
   "outputs": [
    {
     "data": {
      "text/html": [
       "<div>\n",
       "<style scoped>\n",
       "    .dataframe tbody tr th:only-of-type {\n",
       "        vertical-align: middle;\n",
       "    }\n",
       "\n",
       "    .dataframe tbody tr th {\n",
       "        vertical-align: top;\n",
       "    }\n",
       "\n",
       "    .dataframe thead th {\n",
       "        text-align: right;\n",
       "    }\n",
       "</style>\n",
       "<table border=\"1\" class=\"dataframe\">\n",
       "  <thead>\n",
       "    <tr style=\"text-align: right;\">\n",
       "      <th></th>\n",
       "      <th>0</th>\n",
       "      <th>1</th>\n",
       "      <th>2</th>\n",
       "      <th>3</th>\n",
       "    </tr>\n",
       "  </thead>\n",
       "  <tbody>\n",
       "    <tr>\n",
       "      <th>Total cost ($)</th>\n",
       "      <td>4655484.685</td>\n",
       "      <td>1554168.747</td>\n",
       "      <td>1492007.023</td>\n",
       "      <td>1609308.915</td>\n",
       "    </tr>\n",
       "    <tr>\n",
       "      <th>EC2-Instances($)</th>\n",
       "      <td>2748018.804</td>\n",
       "      <td>854158.3435</td>\n",
       "      <td>884052.8967</td>\n",
       "      <td>1009807.564</td>\n",
       "    </tr>\n",
       "    <tr>\n",
       "      <th>EC2-Other($)</th>\n",
       "      <td>671008.5002</td>\n",
       "      <td>245472.5549</td>\n",
       "      <td>213944.7836</td>\n",
       "      <td>211591.1617</td>\n",
       "    </tr>\n",
       "    <tr>\n",
       "      <th>S3($)</th>\n",
       "      <td>527273.0818</td>\n",
       "      <td>192020.3415</td>\n",
       "      <td>169241.6837</td>\n",
       "      <td>166011.0566</td>\n",
       "    </tr>\n",
       "    <tr>\n",
       "      <th>EC2-ELB($)</th>\n",
       "      <td>342327.7467</td>\n",
       "      <td>127500.3408</td>\n",
       "      <td>111625.0812</td>\n",
       "      <td>103202.3247</td>\n",
       "    </tr>\n",
       "    <tr>\n",
       "      <th>Premium Support($)</th>\n",
       "      <td>165000</td>\n",
       "      <td>55000</td>\n",
       "      <td>55000</td>\n",
       "      <td>55000</td>\n",
       "    </tr>\n",
       "    <tr>\n",
       "      <th>EMR($)</th>\n",
       "      <td>81614.729</td>\n",
       "      <td>26237.364</td>\n",
       "      <td>23823.059</td>\n",
       "      <td>31554.306</td>\n",
       "    </tr>\n",
       "    <tr>\n",
       "      <th>RDS($)</th>\n",
       "      <td>28292.68694</td>\n",
       "      <td>9799.866728</td>\n",
       "      <td>9438.244032</td>\n",
       "      <td>9054.576183</td>\n",
       "    </tr>\n",
       "    <tr>\n",
       "      <th>CloudFront($)</th>\n",
       "      <td>23906.85779</td>\n",
       "      <td>8547.627189</td>\n",
       "      <td>8083.85436</td>\n",
       "      <td>7275.376242</td>\n",
       "    </tr>\n",
       "    <tr>\n",
       "      <th>Elasticsearch Service($)</th>\n",
       "      <td>16863.41042</td>\n",
       "      <td>7940.945035</td>\n",
       "      <td>4824.428884</td>\n",
       "      <td>4098.036505</td>\n",
       "    </tr>\n",
       "    <tr>\n",
       "      <th>CloudWatch($)</th>\n",
       "      <td>14490.36061</td>\n",
       "      <td>14428.61185</td>\n",
       "      <td>49.906899</td>\n",
       "      <td>11.84186</td>\n",
       "    </tr>\n",
       "    <tr>\n",
       "      <th>CloudSearch($)</th>\n",
       "      <td>12528.30303</td>\n",
       "      <td>4492.547501</td>\n",
       "      <td>3953.060088</td>\n",
       "      <td>4082.695439</td>\n",
       "    </tr>\n",
       "    <tr>\n",
       "      <th>Redshift($)</th>\n",
       "      <td>7273.35</td>\n",
       "      <td>2449.35</td>\n",
       "      <td>2372.95</td>\n",
       "      <td>2451.05</td>\n",
       "    </tr>\n",
       "    <tr>\n",
       "      <th>ElastiCache($)</th>\n",
       "      <td>6588.672</td>\n",
       "      <td>2220.096</td>\n",
       "      <td>2148.48</td>\n",
       "      <td>2220.096</td>\n",
       "    </tr>\n",
       "    <tr>\n",
       "      <th>Tax($)</th>\n",
       "      <td>3601.57</td>\n",
       "      <td>1284.13</td>\n",
       "      <td>1158.03</td>\n",
       "      <td>1159.41</td>\n",
       "    </tr>\n",
       "    <tr>\n",
       "      <th>Route 53($)</th>\n",
       "      <td>2773.201915</td>\n",
       "      <td>1020.425738</td>\n",
       "      <td>1065.593793</td>\n",
       "      <td>687.182383</td>\n",
       "    </tr>\n",
       "    <tr>\n",
       "      <th>Config($)</th>\n",
       "      <td>1231.663</td>\n",
       "      <td>338.221</td>\n",
       "      <td>415.72</td>\n",
       "      <td>477.722</td>\n",
       "    </tr>\n",
       "    <tr>\n",
       "      <th>Key Management Service($)</th>\n",
       "      <td>843.288562</td>\n",
       "      <td>302.00245</td>\n",
       "      <td>283.462042</td>\n",
       "      <td>257.824069</td>\n",
       "    </tr>\n",
       "    <tr>\n",
       "      <th>DynamoDB($)</th>\n",
       "      <td>843.043375</td>\n",
       "      <td>438.398867</td>\n",
       "      <td>227.749928</td>\n",
       "      <td>176.89458</td>\n",
       "    </tr>\n",
       "    <tr>\n",
       "      <th>Lambda($)</th>\n",
       "      <td>234.2066</td>\n",
       "      <td>157.224455</td>\n",
       "      <td>33.443694</td>\n",
       "      <td>43.538451</td>\n",
       "    </tr>\n",
       "  </tbody>\n",
       "</table>\n",
       "</div>"
      ],
      "text/plain": [
       "                                     0            1            2            3\n",
       "Total cost ($)             4655484.685  1554168.747  1492007.023  1609308.915\n",
       "EC2-Instances($)           2748018.804  854158.3435  884052.8967  1009807.564\n",
       "EC2-Other($)               671008.5002  245472.5549  213944.7836  211591.1617\n",
       "S3($)                      527273.0818  192020.3415  169241.6837  166011.0566\n",
       "EC2-ELB($)                 342327.7467  127500.3408  111625.0812  103202.3247\n",
       "Premium Support($)              165000        55000        55000        55000\n",
       "EMR($)                       81614.729    26237.364    23823.059    31554.306\n",
       "RDS($)                     28292.68694  9799.866728  9438.244032  9054.576183\n",
       "CloudFront($)              23906.85779  8547.627189   8083.85436  7275.376242\n",
       "Elasticsearch Service($)   16863.41042  7940.945035  4824.428884  4098.036505\n",
       "CloudWatch($)              14490.36061  14428.61185    49.906899     11.84186\n",
       "CloudSearch($)             12528.30303  4492.547501  3953.060088  4082.695439\n",
       "Redshift($)                    7273.35      2449.35      2372.95      2451.05\n",
       "ElastiCache($)                6588.672     2220.096      2148.48     2220.096\n",
       "Tax($)                         3601.57      1284.13      1158.03      1159.41\n",
       "Route 53($)                2773.201915  1020.425738  1065.593793   687.182383\n",
       "Config($)                     1231.663      338.221       415.72      477.722\n",
       "Key Management Service($)   843.288562    302.00245   283.462042   257.824069\n",
       "DynamoDB($)                 843.043375   438.398867   227.749928    176.89458\n",
       "Lambda($)                     234.2066   157.224455    33.443694    43.538451"
      ]
     },
     "execution_count": 81,
     "metadata": {},
     "output_type": "execute_result"
    }
   ],
   "source": [
    "b = df_service.T\n",
    "b.columns = ['0', '1', '2', '3']\n",
    "b = b[b.index != 'Service']\n",
    "b = b.sort_values('0', ascending=False)\n",
    "b.head(20)"
   ]
  },
  {
   "cell_type": "code",
   "execution_count": 82,
   "id": "f6879d3b",
   "metadata": {},
   "outputs": [
    {
     "data": {
      "text/plain": [
       "Index(['Total cost ($)', 'EC2-Instances($)', 'EC2-Other($)', 'S3($)',\n",
       "       'EC2-ELB($)', 'Premium Support($)', 'EMR($)', 'RDS($)', 'CloudFront($)',\n",
       "       'Elasticsearch Service($)', 'CloudWatch($)', 'CloudSearch($)',\n",
       "       'Redshift($)', 'ElastiCache($)', 'Tax($)', 'Route 53($)', 'Config($)',\n",
       "       'Key Management Service($)', 'DynamoDB($)', 'Lambda($)'],\n",
       "      dtype='object')"
      ]
     },
     "execution_count": 82,
     "metadata": {},
     "output_type": "execute_result"
    }
   ],
   "source": [
    "b.head(20).index"
   ]
  },
  {
   "cell_type": "code",
   "execution_count": 90,
   "id": "939e4b90",
   "metadata": {},
   "outputs": [
    {
     "data": {
      "text/plain": [
       "np.int64(1)"
      ]
     },
     "execution_count": 90,
     "metadata": {},
     "output_type": "execute_result"
    }
   ],
   "source": [
    "np.square(1)"
   ]
  },
  {
   "cell_type": "code",
   "execution_count": 91,
   "id": "ec652d26",
   "metadata": {},
   "outputs": [
    {
     "data": {
      "text/plain": [
       "0"
      ]
     },
     "execution_count": 91,
     "metadata": {},
     "output_type": "execute_result"
    }
   ],
   "source": [
    "1 //2 "
   ]
  },
  {
   "cell_type": "code",
   "execution_count": 98,
   "id": "dd9c91cc",
   "metadata": {},
   "outputs": [
    {
     "data": {
      "text/plain": [
       "Counter({3: 2, 1: 1, 2: 1})"
      ]
     },
     "execution_count": 98,
     "metadata": {},
     "output_type": "execute_result"
    }
   ],
   "source": [
    "from collections import Counter\n",
    "Counter([1,2,3,3])"
   ]
  },
  {
   "cell_type": "code",
   "execution_count": 100,
   "id": "daf6ca4f",
   "metadata": {},
   "outputs": [
    {
     "data": {
      "text/plain": [
       "1"
      ]
     },
     "execution_count": 100,
     "metadata": {},
     "output_type": "execute_result"
    }
   ],
   "source": [
    "a = '123lks2331'\n",
    "a.count('s')"
   ]
  },
  {
   "cell_type": "code",
   "execution_count": 102,
   "id": "029e3a66",
   "metadata": {},
   "outputs": [
    {
     "name": "stdout",
     "output_type": "stream",
     "text": [
      "1000000 1000000 1000000 1000000\n",
      "9.42 ms ± 79 µs per loop (mean ± std. dev. of 7 runs, 100 loops each)\n",
      "276 ms ± 3.73 ms per loop (mean ± std. dev. of 7 runs, 1 loop each)\n",
      "291 ms ± 14.5 ms per loop (mean ± std. dev. of 7 runs, 1 loop each)\n",
      "592 ms ± 5.13 ms per loop (mean ± std. dev. of 7 runs, 1 loop each)\n"
     ]
    }
   ],
   "source": [
    "from collections import Counter\n",
    "\n",
    "# Create a large test string\n",
    "s = \"ABCDEFGHIJKLMNOPQRSTUVWXYZ\" * 10_000_00  # ~2.6 million chars\n",
    "\n",
    "# Verify correctness\n",
    "print(\n",
    "    len([l for l in s if l == \"T\"]),\n",
    "    sum(1 for l in s if l == \"T\"),\n",
    "    s.count(\"T\"),\n",
    "    Counter(s)[\"T\"]\n",
    ")\n",
    "\n",
    "# Benchmark with notebook magic\n",
    "%timeit s.count(\"T\")\n",
    "%timeit len([l for l in s if l == \"T\"])\n",
    "%timeit sum(1 for l in s if l == \"T\")\n",
    "%timeit Counter(s)[\"T\"]"
   ]
  },
  {
   "cell_type": "code",
   "execution_count": 103,
   "id": "09506170",
   "metadata": {},
   "outputs": [],
   "source": [
    "s = {1, 2, 3}"
   ]
  },
  {
   "cell_type": "code",
   "execution_count": 107,
   "id": "673a34eb",
   "metadata": {},
   "outputs": [],
   "source": [
    "s.update([1,2, 6])"
   ]
  },
  {
   "cell_type": "code",
   "execution_count": 108,
   "id": "4059f5eb",
   "metadata": {},
   "outputs": [
    {
     "data": {
      "text/plain": [
       "{1, 2, 3, 6}"
      ]
     },
     "execution_count": 108,
     "metadata": {},
     "output_type": "execute_result"
    }
   ],
   "source": [
    "s"
   ]
  },
  {
   "cell_type": "code",
   "execution_count": 110,
   "id": "4f2d54ab",
   "metadata": {},
   "outputs": [
    {
     "ename": "ModuleNotFoundError",
     "evalue": "No module named 'primesieve'",
     "output_type": "error",
     "traceback": [
      "\u001b[0;31m---------------------------------------------------------------------------\u001b[0m",
      "\u001b[0;31mModuleNotFoundError\u001b[0m                       Traceback (most recent call last)",
      "Cell \u001b[0;32mIn[110], line 1\u001b[0m\n\u001b[0;32m----> 1\u001b[0m \u001b[38;5;28;01mimport\u001b[39;00m \u001b[38;5;21;01mprimesieve\u001b[39;00m\n",
      "\u001b[0;31mModuleNotFoundError\u001b[0m: No module named 'primesieve'"
     ]
    }
   ],
   "source": [
    "import primesieve"
   ]
  },
  {
   "cell_type": "code",
   "execution_count": 114,
   "id": "31445f31",
   "metadata": {},
   "outputs": [
    {
     "data": {
      "text/plain": [
       "[2, 3, 5, 7]"
      ]
     },
     "execution_count": 114,
     "metadata": {},
     "output_type": "execute_result"
    }
   ],
   "source": [
    "from sympy import sieve\n",
    "list(sieve.primerange(10))"
   ]
  },
  {
   "cell_type": "code",
   "execution_count": 115,
   "id": "4d541c8a",
   "metadata": {},
   "outputs": [],
   "source": [
    "a = [1,2,3, 7, 1, 5]"
   ]
  },
  {
   "cell_type": "code",
   "execution_count": 127,
   "id": "8b1be470",
   "metadata": {},
   "outputs": [
    {
     "name": "stdout",
     "output_type": "stream",
     "text": [
      "Initial SortedList: SortedList([1, 1, 2, 3, 4, 5, 9])\n",
      "After adding 8: SortedList([1, 1, 2, 3, 4, 5, 8, 9])\n",
      "After updating with [0, 7]: SortedList([0, 1, 1, 2, 3, 4, 5, 7, 8, 9])\n",
      "After discarding 5: SortedList([0, 1, 1, 2, 3, 4, 7, 8, 9])\n",
      "Index where 4 would be inserted: 5\n"
     ]
    }
   ],
   "source": [
    "from sortedcontainers import SortedList\n",
    "\n",
    "# Create and initialize a SortedList\n",
    "sl = SortedList([3, 1, 4, 1, 5, 9, 2])\n",
    "print(\"Initial SortedList:\", sl)\n",
    "\n",
    "# Add new elements, and they are automatically inserted in the correct position\n",
    "sl.add(8)\n",
    "print(\"After adding 8:\", sl)\n",
    "\n",
    "sl.update([0, 7])\n",
    "print(\"After updating with [0, 7]:\", sl)\n",
    "\n",
    "# Remove an element\n",
    "sl.discard(5)\n",
    "print(\"After discarding 5:\", sl)\n",
    "\n",
    "# Efficiently find elements using binary search (bisect)\n",
    "index = sl.bisect_left(4)\n",
    "print(\"Index where 4 would be inserted:\", index)\n",
    "sl = SortedList([])\n"
   ]
  },
  {
   "cell_type": "code",
   "execution_count": 128,
   "id": "b60c20a6",
   "metadata": {},
   "outputs": [
    {
     "data": {
      "text/plain": [
       "SortedList([])"
      ]
     },
     "execution_count": 128,
     "metadata": {},
     "output_type": "execute_result"
    }
   ],
   "source": [
    "sl"
   ]
  },
  {
   "cell_type": "code",
   "execution_count": 130,
   "id": "cdc7d957",
   "metadata": {},
   "outputs": [
    {
     "data": {
      "text/plain": [
       "(0, 0, 0)"
      ]
     },
     "execution_count": 130,
     "metadata": {},
     "output_type": "execute_result"
    }
   ],
   "source": [
    "k = 6\n",
    "sl.bisect(k), sl.bisect_left(k), sl.bisect_right(k)"
   ]
  },
  {
   "cell_type": "code",
   "execution_count": 134,
   "id": "e8500f93",
   "metadata": {},
   "outputs": [
    {
     "data": {
      "text/plain": [
       "(1, 0, 0, 2)"
      ]
     },
     "execution_count": 134,
     "metadata": {},
     "output_type": "execute_result"
    }
   ],
   "source": [
    "1 & 1, 1 & 2, 1 & 0, 2 & 3"
   ]
  },
  {
   "cell_type": "code",
   "execution_count": 138,
   "id": "3f3fce6a",
   "metadata": {},
   "outputs": [
    {
     "data": {
      "text/plain": [
       "-1"
      ]
     },
     "execution_count": 138,
     "metadata": {},
     "output_type": "execute_result"
    }
   ],
   "source": [
    "a = ~ 0\n",
    "a "
   ]
  },
  {
   "cell_type": "code",
   "execution_count": 139,
   "id": "2788907d",
   "metadata": {},
   "outputs": [
    {
     "name": "stdout",
     "output_type": "stream",
     "text": [
      "List: 0.033975839614868164\n",
      "Array: 0.06145596504211426\n"
     ]
    }
   ],
   "source": [
    "import numpy as np\n",
    "import time\n",
    "\n",
    "n = 10**6\n",
    "lst = [0] * n\n",
    "arr = np.zeros(n, dtype=int)\n",
    "\n",
    "t0 = time.time()\n",
    "for i in range(n):\n",
    "    lst[i] = 5\n",
    "print(\"List:\", time.time() - t0)\n",
    "\n",
    "t0 = time.time()\n",
    "for i in range(n):\n",
    "    arr[i] = 5\n",
    "print(\"Array:\", time.time() - t0)"
   ]
  },
  {
   "cell_type": "code",
   "execution_count": 140,
   "id": "78c47f86",
   "metadata": {},
   "outputs": [
    {
     "ename": "SyntaxError",
     "evalue": "invalid syntax. Maybe you meant '==' or ':=' instead of '='? (3195668222.py, line 1)",
     "output_type": "error",
     "traceback": [
      "\u001b[0;36m  Cell \u001b[0;32mIn[140], line 1\u001b[0;36m\u001b[0m\n\u001b[0;31m    a = 3, b = 5\u001b[0m\n\u001b[0m    ^\u001b[0m\n\u001b[0;31mSyntaxError\u001b[0m\u001b[0;31m:\u001b[0m invalid syntax. Maybe you meant '==' or ':=' instead of '='?\n"
     ]
    }
   ],
   "source": [
    "a = 3, b = 5"
   ]
  },
  {
   "cell_type": "code",
   "execution_count": null,
   "id": "72aca203",
   "metadata": {},
   "outputs": [],
   "source": []
  }
 ],
 "metadata": {
  "kernelspec": {
   "display_name": "Python 3 (ipykernel)",
   "language": "python",
   "name": "python3"
  },
  "language_info": {
   "codemirror_mode": {
    "name": "ipython",
    "version": 3
   },
   "file_extension": ".py",
   "mimetype": "text/x-python",
   "name": "python",
   "nbconvert_exporter": "python",
   "pygments_lexer": "ipython3",
   "version": "3.11.5"
  }
 },
 "nbformat": 4,
 "nbformat_minor": 5
}
